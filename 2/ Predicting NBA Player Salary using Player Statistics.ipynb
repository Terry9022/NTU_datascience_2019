{
 "cells": [
  {
   "cell_type": "markdown",
   "metadata": {},
   "source": [
    " ## Predicting NBA Player Salary using Player Performance Data"
   ]
  },
  {
   "cell_type": "markdown",
   "metadata": {},
   "source": [
    "### Business Problem:\n",
    "Every year, the NBA increases salary cap for each team. This has lead to players signing contracts bigger than ever before. There are many rules and regulations that apply to player contracts, however, the main question that needs to be addressed is, are the players performing at the same level as their salary indicates?"
   ]
  },
  {
   "cell_type": "markdown",
   "metadata": {},
   "source": [
    "### Project Goals:\n",
    "The purpose of this project is to create a model that uses player statistics to predict a salary. This model will help team team owners and General Managers to further assess if any given player is truly worth the salary they are considering paying. In addition to team owners and GMs, future NBA players can use this model to gauge a cluster of statistic categories that they need to focus on in order to hit a certain dollar amount."
   ]
  },
  {
   "cell_type": "markdown",
   "metadata": {},
   "source": [
    "### The Data:\n",
    "web crawling from basketball-reference.com to get player's performance data for 2013~2019\n",
    "\n",
    "web crawling from espn.com to get player's salary data for 2013~2019"
   ]
  },
  {
   "cell_type": "markdown",
   "metadata": {},
   "source": [
    "### Data Dictionary:\n",
    "(+)means I think it is a positive factor for player's salary."
   ]
  },
  {
   "cell_type": "markdown",
   "metadata": {},
   "source": [
    "##### SALARY:salary\n",
    "##### Player:player\n",
    "##### Pos:Position\n",
    "##### Age:Age of Player at the start of February 1st of that season.\n",
    "##### Tm:Team\n",
    "##### G:Games\n",
    "##### MP:Minutes Played （＋）\n",
    "##### FG:Field Goals Per 36 Minutes （＋）\n",
    "##### FGA:Field Goal Attempts Per 36 Minutes \n",
    "##### FG% :Field Goal Percentage （＋）\n",
    "##### 3P :3-Point Field Goals Per 36 Minutes（＋）\n",
    "##### 3PA :3-Point Field Goal Attempts Per 36 Minutes\n",
    "##### 3P% : FG% on 3-Pt FGAs.（＋）\n",
    "##### 2P :2-Point Field Goals Per 36 Minutes（＋）\n",
    "##### 2PA:2-Point Field Goal Attempts Per 36 Minutes\n",
    "##### 2P%:FG% on 2-Pt FGAs.（＋）\n",
    "##### FT :Free Throws Per 36 Minutes（＋）\n",
    "##### FTA : Free Throw Attempts Per 36 Minutes\n",
    "##### FT% : Free Throw Percentage（＋）\n",
    "##### ORB : Offensive Rebounds Per 36 Minutes（＋）\n",
    "##### DRB :Defensive Rebounds Per 36 Minutes（＋）\n",
    "##### TRB :Total Rebounds Per 36 Minutes（＋）\n",
    "##### AST : Assists Per 36 Minutes（＋）\n",
    "##### STL : Steals Per 36 Minutes（＋）\n",
    "##### BLK : Blocks Per 36 Minutes（＋）\n",
    "##### TOV : Turnovers Per 36 Minutes（-）\n",
    "##### PF : Personal Fouls Per 36 Minutes（-）\n",
    "##### PTS : Points Per 36 Minutes（＋）\n",
    "##### PER:Player Efficiency Rating（＋）\n",
    "A measure of per-minute production standardized such that the league average is 15.\n",
    "##### TS%:True Shooting Percentage（＋）\n",
    "A measure of shooting efficiency that takes into account 2-point field goals, 3-point field goals, and free throws.\n",
    "##### 3PAr:3-Point Attempt Rate\n",
    "Percentage of FG Attempts from 3-Point Range\n",
    "##### FTr:Free Throw Attempt Rate\n",
    "Number of FT Attempts Per FG Attempt\n",
    "##### ORB%:Offensive Rebound Percentage\n",
    "An estimate of the percentage of available offensive rebounds a player grabbed while he was on the floor.\n",
    "##### DRB%:Defensive Rebound Percentage\n",
    "An estimate of the percentage of available defensive rebounds a player grabbed while he was on the floor.\n",
    "##### TRB%:Total Rebound Percentage\n",
    "An estimate of the percentage of available rebounds a player grabbed while he was on the floor.\n",
    "##### AST%:Assist Percentage\n",
    "An estimate of the percentage of teammate field goals a player assisted while he was on the floor.\n",
    "##### STL%:Steal Percentage\n",
    "An estimate of the percentage of opponent possessions that end with a steal by the player while he was on the floor.\n",
    "##### BLK%:Block Percentage\n",
    "An estimate of the percentage of opponent two-point field goal attempts blocked by the player while he was on the floor.\n",
    "##### TOV%:Turnover Percentage\n",
    "An estimate of turnovers committed per 100 plays.\n",
    "##### USG%:Usage Percentage\n",
    "An estimate of the percentage of team plays used by a player while he was on the floor.\n",
    "##### OWS:Offensive Win Shares\n",
    "An estimate of the number of wins contributed by a player due to his offense.\n",
    "##### DWS:Defensive Win Shares\n",
    "An estimate of the number of wins contributed by a player due to his defense.\n",
    "##### WS :Win Shares\n",
    "An estimate of the number of wins contributed by a player.\n",
    "##### WS/48 :Win Shares Per 48 Minutes\n",
    "An estimate of the number of wins contributed by a player per 48 minutes (league average is approximately .100)\n",
    "##### OBPM:Offensive Box Plus/Minus\n",
    "A box score estimate of the offensive points per 100 possessions a player contributed above a league-average player, translated to an average team.\n",
    "##### DBPM:Defensive Box Plus/Minus\n",
    "A box score estimate of the defensive points per 100 possessions a player contributed above a league-average player, translated to an average team.\n",
    "##### BPM :Box Plus/Minus\n",
    "A box score estimate of the points per 100 possessions a player contributed above a league-average player, translated to an average team.\n",
    "##### VORP :Value over Replacement Player\n",
    "A box score estimate of the points per 100 TEAM possessions that a player contributed above a replacement-level (-2.0) player, translated to an average team and prorated to an 82-game season.\n",
    "Multiply by 2.70 to convert to wins over replacement."
   ]
  },
  {
   "cell_type": "code",
   "execution_count": 21,
   "metadata": {},
   "outputs": [],
   "source": [
    "#載入需要套件\n",
    "import pandas as pd\n",
    "import numpy as np\n",
    "import matplotlib.pyplot as plt\n",
    "import seaborn as sns\n",
    "\n",
    "%matplotlib inline\n",
    "\n",
    "from sklearn.linear_model import Ridge, Lasso, ElasticNet, LinearRegression, RidgeCV, LassoCV, ElasticNetCV\n",
    "from sklearn.model_selection import cross_val_score\n",
    "from sklearn.preprocessing import StandardScaler\n",
    "from sklearn.model_selection import train_test_split"
   ]
  },
  {
   "cell_type": "code",
   "execution_count": 22,
   "metadata": {},
   "outputs": [],
   "source": [
    "#讀入我爬蟲完 存好的檔案\n",
    "df = pd.read_csv('df_merge')\n",
    "df.drop('Unnamed: 0', inplace=True, axis=1)"
   ]
  },
  {
   "cell_type": "code",
   "execution_count": 23,
   "metadata": {},
   "outputs": [],
   "source": [
    "#bringing salary column to front of dataframe\n",
    "cols = df.columns.tolist()\n",
    "cols = cols[50:] + cols[:50]\n",
    "df = df[cols]"
   ]
  },
  {
   "cell_type": "code",
   "execution_count": 24,
   "metadata": {
    "scrolled": false
   },
   "outputs": [
    {
     "name": "stdout",
     "output_type": "stream",
     "text": [
      "<class 'pandas.core.frame.DataFrame'>\n",
      "RangeIndex: 2656 entries, 0 to 2655\n",
      "Data columns (total 51 columns):\n",
      "SALARY    2656 non-null float64\n",
      "Player    2656 non-null object\n",
      "Pos       2656 non-null object\n",
      "Age       2656 non-null float64\n",
      "Tm        2656 non-null object\n",
      "G         2656 non-null float64\n",
      "GS        2656 non-null float64\n",
      "MP        2656 non-null float64\n",
      "FG        2656 non-null float64\n",
      "FGA       2656 non-null float64\n",
      "FG%       2656 non-null float64\n",
      "3P        2656 non-null float64\n",
      "3PA       2656 non-null float64\n",
      "3P%       2656 non-null float64\n",
      "2P        2656 non-null float64\n",
      "2PA       2656 non-null float64\n",
      "2P%       2656 non-null float64\n",
      "FT        2656 non-null float64\n",
      "FTA       2656 non-null float64\n",
      "FT%       2656 non-null float64\n",
      "ORB       2656 non-null float64\n",
      "DRB       2656 non-null float64\n",
      "TRB       2656 non-null float64\n",
      "AST       2656 non-null float64\n",
      "STL       2656 non-null float64\n",
      "BLK       2656 non-null float64\n",
      "TOV       2656 non-null float64\n",
      "PF        2656 non-null float64\n",
      "PTS       2656 non-null float64\n",
      "Year      2656 non-null int64\n",
      "PER       2656 non-null float64\n",
      "TS%       2656 non-null float64\n",
      "3PAr      2656 non-null float64\n",
      "FTr       2656 non-null float64\n",
      "ORB%      2656 non-null float64\n",
      "DRB%      2656 non-null float64\n",
      "TRB%      2656 non-null float64\n",
      "AST%      2656 non-null float64\n",
      "STL%      2656 non-null float64\n",
      "BLK%      2656 non-null float64\n",
      "TOV%      2656 non-null float64\n",
      "USG%      2656 non-null float64\n",
      "OWS       2656 non-null float64\n",
      "DWS       2656 non-null float64\n",
      "WS        2656 non-null float64\n",
      "WS/48     2656 non-null float64\n",
      "OBPM      2656 non-null float64\n",
      "DBPM      2656 non-null float64\n",
      "BPM       2656 non-null float64\n",
      "VORP      2656 non-null float64\n",
      "TEAM      2656 non-null object\n",
      "dtypes: float64(46), int64(1), object(4)\n",
      "memory usage: 1.0+ MB\n"
     ]
    }
   ],
   "source": [
    "df.info()"
   ]
  },
  {
   "cell_type": "code",
   "execution_count": 25,
   "metadata": {},
   "outputs": [],
   "source": [
    "#drop incorrect outliner\n",
    "df = df.drop(df[df['PTS']>80].index)"
   ]
  },
  {
   "cell_type": "code",
   "execution_count": 26,
   "metadata": {},
   "outputs": [],
   "source": [
    "#dropping categorical values in df so I can start a model\n",
    "df_values = df.drop(['Player', 'TEAM', 'Pos', 'Year','Tm'], axis=1)"
   ]
  },
  {
   "cell_type": "code",
   "execution_count": 27,
   "metadata": {},
   "outputs": [
    {
     "data": {
      "text/html": [
       "<div>\n",
       "<style scoped>\n",
       "    .dataframe tbody tr th:only-of-type {\n",
       "        vertical-align: middle;\n",
       "    }\n",
       "\n",
       "    .dataframe tbody tr th {\n",
       "        vertical-align: top;\n",
       "    }\n",
       "\n",
       "    .dataframe thead th {\n",
       "        text-align: right;\n",
       "    }\n",
       "</style>\n",
       "<table border=\"1\" class=\"dataframe\">\n",
       "  <thead>\n",
       "    <tr style=\"text-align: right;\">\n",
       "      <th></th>\n",
       "      <th>SALARY</th>\n",
       "      <th>Player</th>\n",
       "      <th>Pos</th>\n",
       "      <th>Age</th>\n",
       "      <th>Tm</th>\n",
       "      <th>G</th>\n",
       "      <th>GS</th>\n",
       "      <th>MP</th>\n",
       "      <th>FG</th>\n",
       "      <th>FGA</th>\n",
       "      <th>...</th>\n",
       "      <th>USG%</th>\n",
       "      <th>OWS</th>\n",
       "      <th>DWS</th>\n",
       "      <th>WS</th>\n",
       "      <th>WS/48</th>\n",
       "      <th>OBPM</th>\n",
       "      <th>DBPM</th>\n",
       "      <th>BPM</th>\n",
       "      <th>VORP</th>\n",
       "      <th>TEAM</th>\n",
       "    </tr>\n",
       "  </thead>\n",
       "  <tbody>\n",
       "    <tr>\n",
       "      <th>0</th>\n",
       "      <td>665000.0</td>\n",
       "      <td>Quincy Acy</td>\n",
       "      <td>PF</td>\n",
       "      <td>22.0</td>\n",
       "      <td>TOR</td>\n",
       "      <td>29.0</td>\n",
       "      <td>0.0</td>\n",
       "      <td>342.0</td>\n",
       "      <td>4.4</td>\n",
       "      <td>7.9</td>\n",
       "      <td>...</td>\n",
       "      <td>14.7</td>\n",
       "      <td>0.7</td>\n",
       "      <td>0.4</td>\n",
       "      <td>1.1</td>\n",
       "      <td>0.157</td>\n",
       "      <td>-0.6</td>\n",
       "      <td>1.3</td>\n",
       "      <td>0.7</td>\n",
       "      <td>0.2</td>\n",
       "      <td>Toronto Raptors</td>\n",
       "    </tr>\n",
       "    <tr>\n",
       "      <th>1</th>\n",
       "      <td>916099.0</td>\n",
       "      <td>Jeff Adrien</td>\n",
       "      <td>PF</td>\n",
       "      <td>26.0</td>\n",
       "      <td>CHA</td>\n",
       "      <td>52.0</td>\n",
       "      <td>5.0</td>\n",
       "      <td>713.0</td>\n",
       "      <td>3.6</td>\n",
       "      <td>8.5</td>\n",
       "      <td>...</td>\n",
       "      <td>15.6</td>\n",
       "      <td>0.5</td>\n",
       "      <td>0.4</td>\n",
       "      <td>1.0</td>\n",
       "      <td>0.064</td>\n",
       "      <td>-3.0</td>\n",
       "      <td>-0.2</td>\n",
       "      <td>-3.3</td>\n",
       "      <td>-0.2</td>\n",
       "      <td>Charlotte Bobcats</td>\n",
       "    </tr>\n",
       "    <tr>\n",
       "      <th>2</th>\n",
       "      <td>7750000.0</td>\n",
       "      <td>Arron Afflalo</td>\n",
       "      <td>SF</td>\n",
       "      <td>27.0</td>\n",
       "      <td>ORL</td>\n",
       "      <td>64.0</td>\n",
       "      <td>64.0</td>\n",
       "      <td>2307.0</td>\n",
       "      <td>6.2</td>\n",
       "      <td>14.1</td>\n",
       "      <td>...</td>\n",
       "      <td>22.5</td>\n",
       "      <td>1.5</td>\n",
       "      <td>0.5</td>\n",
       "      <td>2.0</td>\n",
       "      <td>0.042</td>\n",
       "      <td>-0.3</td>\n",
       "      <td>-2.0</td>\n",
       "      <td>-2.3</td>\n",
       "      <td>-0.2</td>\n",
       "      <td>Orlando Magic</td>\n",
       "    </tr>\n",
       "    <tr>\n",
       "      <th>3</th>\n",
       "      <td>473604.0</td>\n",
       "      <td>Josh Akognon</td>\n",
       "      <td>PG</td>\n",
       "      <td>26.0</td>\n",
       "      <td>DAL</td>\n",
       "      <td>3.0</td>\n",
       "      <td>0.0</td>\n",
       "      <td>9.0</td>\n",
       "      <td>8.0</td>\n",
       "      <td>16.0</td>\n",
       "      <td>...</td>\n",
       "      <td>20.3</td>\n",
       "      <td>0.0</td>\n",
       "      <td>0.0</td>\n",
       "      <td>0.0</td>\n",
       "      <td>0.196</td>\n",
       "      <td>4.7</td>\n",
       "      <td>-4.9</td>\n",
       "      <td>-0.2</td>\n",
       "      <td>0.0</td>\n",
       "      <td>Dallas Mavericks</td>\n",
       "    </tr>\n",
       "    <tr>\n",
       "      <th>4</th>\n",
       "      <td>2445480.0</td>\n",
       "      <td>Cole Aldrich</td>\n",
       "      <td>C</td>\n",
       "      <td>24.0</td>\n",
       "      <td>TOT</td>\n",
       "      <td>45.0</td>\n",
       "      <td>0.0</td>\n",
       "      <td>388.0</td>\n",
       "      <td>4.1</td>\n",
       "      <td>7.4</td>\n",
       "      <td>...</td>\n",
       "      <td>12.7</td>\n",
       "      <td>0.1</td>\n",
       "      <td>0.4</td>\n",
       "      <td>0.6</td>\n",
       "      <td>0.070</td>\n",
       "      <td>-4.8</td>\n",
       "      <td>0.7</td>\n",
       "      <td>-4.0</td>\n",
       "      <td>-0.2</td>\n",
       "      <td>Sacramento Kings</td>\n",
       "    </tr>\n",
       "  </tbody>\n",
       "</table>\n",
       "<p>5 rows × 51 columns</p>\n",
       "</div>"
      ],
      "text/plain": [
       "      SALARY         Player Pos   Age   Tm     G    GS      MP   FG   FGA  \\\n",
       "0   665000.0     Quincy Acy  PF  22.0  TOR  29.0   0.0   342.0  4.4   7.9   \n",
       "1   916099.0    Jeff Adrien  PF  26.0  CHA  52.0   5.0   713.0  3.6   8.5   \n",
       "2  7750000.0  Arron Afflalo  SF  27.0  ORL  64.0  64.0  2307.0  6.2  14.1   \n",
       "3   473604.0   Josh Akognon  PG  26.0  DAL   3.0   0.0     9.0  8.0  16.0   \n",
       "4  2445480.0   Cole Aldrich   C  24.0  TOT  45.0   0.0   388.0  4.1   7.4   \n",
       "\n",
       "   ...  USG%  OWS  DWS   WS  WS/48  OBPM  DBPM  BPM  VORP               TEAM  \n",
       "0  ...  14.7  0.7  0.4  1.1  0.157  -0.6   1.3  0.7   0.2    Toronto Raptors  \n",
       "1  ...  15.6  0.5  0.4  1.0  0.064  -3.0  -0.2 -3.3  -0.2  Charlotte Bobcats  \n",
       "2  ...  22.5  1.5  0.5  2.0  0.042  -0.3  -2.0 -2.3  -0.2      Orlando Magic  \n",
       "3  ...  20.3  0.0  0.0  0.0  0.196   4.7  -4.9 -0.2   0.0   Dallas Mavericks  \n",
       "4  ...  12.7  0.1  0.4  0.6  0.070  -4.8   0.7 -4.0  -0.2   Sacramento Kings  \n",
       "\n",
       "[5 rows x 51 columns]"
      ]
     },
     "execution_count": 27,
     "metadata": {},
     "output_type": "execute_result"
    }
   ],
   "source": [
    "df.head()"
   ]
  },
  {
   "cell_type": "markdown",
   "metadata": {},
   "source": [
    "### 首先探索一下資料間的關係 Exploratory Data Analysis"
   ]
  },
  {
   "cell_type": "code",
   "execution_count": 29,
   "metadata": {},
   "outputs": [
    {
     "data": {
      "image/png": "[encoded data removed]",
      "text/plain": [
       "<Figure size 864x864 with 2 Axes>"
      ]
     },
     "metadata": {
      "needs_background": "light"
     },
     "output_type": "display_data"
    }
   ],
   "source": [
    "#畫Heatmap圖 以看各種類之間的相關性\n",
    "\n",
    "def correlation_heat_map(df):\n",
    "    corrs = df.corr()\n",
    "\n",
    "    # Set the default matplotlib figure size:\n",
    "    fig, ax = plt.subplots(figsize=(12,12))\n",
    "\n",
    "    # Generate a mask for the upper triangle (taken from seaborn example gallery)\n",
    "    mask = np.zeros_like(corrs, dtype=np.bool)\n",
    "    mask[np.triu_indices_from(mask)] = True\n",
    "\n",
    "    # Plot the heatmap with seaborn.\n",
    "    # Assign the matplotlib axis the function returns. This will let us resize the labels.\n",
    "    ax = sns.heatmap(corrs, mask=mask, annot=False)\n",
    "\n",
    "    # Resize the labels.\n",
    "    ax.set_xticklabels(ax.xaxis.get_ticklabels(), fontsize=5, rotation=45)\n",
    "    ax.set_yticklabels(ax.yaxis.get_ticklabels(), fontsize=8, rotation=0)\n",
    "\n",
    "    # If you put plt.show() at the bottom, it prevents those useless printouts from matplotlib.\n",
    "    plt.show()\n",
    "    \n",
    "correlation_heat_map(df_values)"
   ]
  },
  {
   "cell_type": "code",
   "execution_count": 30,
   "metadata": {},
   "outputs": [
    {
     "data": {
      "image/png": "[encoded data removed]",
      "text/plain": [
       "<Figure size 432x432 with 3 Axes>"
      ]
     },
     "metadata": {
      "needs_background": "light"
     },
     "output_type": "display_data"
    }
   ],
   "source": [
    "sns.jointplot(df_values.SALARY, df_values['MP'])\n",
    "plt.show()"
   ]
  },
  {
   "cell_type": "markdown",
   "metadata": {},
   "source": [
    "對球員上場時間以及薪水 畫圖\n",
    "我認為通常一個選手在場上打球越久 代表他可以為球隊帶來比較高的價值 故應該薪水也會較高\n",
    "\n",
    "可以發現大致仍呈現正相關 \n",
    "然而卻也有許多球員在場上時間很長但薪水也未必較高的情形發生"
   ]
  },
  {
   "cell_type": "code",
   "execution_count": 31,
   "metadata": {},
   "outputs": [
    {
     "data": {
      "image/png": "[encoded data removed]",
      "text/plain": [
       "<Figure size 432x432 with 3 Axes>"
      ]
     },
     "metadata": {
      "needs_background": "light"
     },
     "output_type": "display_data"
    }
   ],
   "source": [
    "sns.jointplot(df_values.SALARY, df_values['PTS'])\n",
    "plt.show()"
   ]
  },
  {
   "cell_type": "markdown",
   "metadata": {},
   "source": [
    "對球員薪水以及他們的得分表現 畫圖\n",
    "可以發現大致仍呈現正相關\n",
    "因此得分仍是一個相當好可以拿來預測薪水的一項因子"
   ]
  },
  {
   "cell_type": "markdown",
   "metadata": {},
   "source": [
    "##### Salary distributed across Positions\n",
    "These plots have given me a good idea of a few of the variables that would have strong correlations with Salary. Next, I’d like to take a look at how Salary is being broken down over the different positions."
   ]
  },
  {
   "cell_type": "code",
   "execution_count": 32,
   "metadata": {},
   "outputs": [
    {
     "data": {
      "image/png": "[encoded data removed]",
      "text/plain": [
       "<Figure size 864x360 with 1 Axes>"
      ]
     },
     "metadata": {
      "needs_background": "light"
     },
     "output_type": "display_data"
    }
   ],
   "source": [
    "fig, ax = plt.subplots(figsize=(12,5))\n",
    "sns.swarmplot(df.Pos, df.SALARY, edgecolor='white')\n",
    "ax.set_yticklabels(['$0', '$5,000,000', '$10,000,000', '$15,000,000', '$20,000,000', '$25,000,000', '$30,000,000', '$35,000,000'])\n",
    "\n",
    "plt.show()\n"
   ]
  },
  {
   "cell_type": "markdown",
   "metadata": {},
   "source": [
    "對球員位置與薪水作圖 "
   ]
  },
  {
   "cell_type": "markdown",
   "metadata": {},
   "source": [
    "##### Total Money Spent on Salary in 2013～2019 each team\n",
    "Now that I have a good idea of how Salary is being distributed among the different positions and some of the categories that are highly correlated with Salary, I’d like to take a look at how much money the NBA teams have spent on their players in the past 7 years."
   ]
  },
  {
   "cell_type": "code",
   "execution_count": 33,
   "metadata": {},
   "outputs": [
    {
     "data": {
      "image/png": "[encoded data removed]",
      "text/plain": [
       "<Figure size 864x360 with 1 Axes>"
      ]
     },
     "metadata": {
      "needs_background": "light"
     },
     "output_type": "display_data"
    }
   ],
   "source": [
    "team_sals = df.groupby(\"TEAM\").agg(np.sum).sort_values('SALARY', ascending=False).reset_index().iloc[1::]\n",
    "# colors=sns.color_palette(\"hls\", 10)\n",
    "fig, ax = plt.subplots(figsize=(12,5))\n",
    "\n",
    "ax.set_xticklabels(['$0', '$50,000,000', '$100,000,000', '$150,000,000', '$200,000,000', '$250,000,000', '$300,000,000', '$350,000,000', '$400,000,000'])\n",
    "sns.barplot(x=team_sals.SALARY, y=team_sals.TEAM, ax=ax)\n",
    "\n",
    "ax.set_xlabel('Salary Total for past 7 years')\n",
    "\n",
    "\n",
    "plt.show()\n"
   ]
  },
  {
   "cell_type": "markdown",
   "metadata": {},
   "source": [
    "各球隊的球員薪水總和花費 可以發現前幾名大多為城市 \n",
    "\n",
    "然後最後兩名球隊薪水總和會那麼少 應該是因為我在合併資料框時被遺漏掉的資料\n",
    "\n",
    "也可以特別注意 在球員薪水花費很多但球隊勝率卻不好的球隊"
   ]
  },
  {
   "cell_type": "markdown",
   "metadata": {},
   "source": [
    "#### 開始套迴歸模型\n",
    "To start off, I set two variables. My target variable was Salary and my predictor variable was all the statistical categories. I then normalized all my predictor variables by using the sklearn.preprocessing.StandardScaler library. I used the sklearn.model_selection.train_test_split method to subset my data. 70% of my data was used as a training set and the remaining 30% was used as the test set. I ran 4 different regression models on my data; Linear, Lasso, Ridge, and ElasticNet regression."
   ]
  },
  {
   "cell_type": "markdown",
   "metadata": {},
   "source": [
    "#### Splitting data for modeling"
   ]
  },
  {
   "cell_type": "code",
   "execution_count": 34,
   "metadata": {},
   "outputs": [],
   "source": [
    "#salary is target\n",
    "#everything else is predictors\n",
    "y = df_values.SALARY.values\n",
    "X = df_values.iloc[:,1:]"
   ]
  },
  {
   "cell_type": "code",
   "execution_count": 35,
   "metadata": {},
   "outputs": [],
   "source": [
    "ss = StandardScaler()\n",
    "\n",
    "# use the \"fit_transform\" function to normalize the X design matrix\n",
    "Xn = ss.fit_transform(X)"
   ]
  },
  {
   "cell_type": "code",
   "execution_count": 36,
   "metadata": {},
   "outputs": [],
   "source": [
    "#splitting data 70:30\n",
    "Xtrain, Xtest, ytrain, ytest = train_test_split(Xn, y, test_size=0.3)"
   ]
  },
  {
   "cell_type": "markdown",
   "metadata": {},
   "source": [
    "#### Basic Linear Regression Model¶"
   ]
  },
  {
   "cell_type": "code",
   "execution_count": 37,
   "metadata": {},
   "outputs": [
    {
     "name": "stdout",
     "output_type": "stream",
     "text": [
      "[0.52597471 0.45660512 0.40968036 0.48778693 0.47954228]\n",
      "0.47191787852276146\n"
     ]
    }
   ],
   "source": [
    "linreg = LinearRegression()\n",
    "\n",
    "linreg_scores = cross_val_score(linreg, Xtrain, ytrain, cv=5)\n",
    "\n",
    "print (linreg_scores)\n",
    "print (np.mean(linreg_scores))"
   ]
  },
  {
   "cell_type": "code",
   "execution_count": 38,
   "metadata": {},
   "outputs": [
    {
     "data": {
      "text/plain": [
       "0.46325888728208575"
      ]
     },
     "execution_count": 38,
     "metadata": {},
     "output_type": "execute_result"
    }
   ],
   "source": [
    "linreg.fit(Xtrain, ytrain)\n",
    "linreg.score(Xtest, ytest)"
   ]
  },
  {
   "cell_type": "code",
   "execution_count": 39,
   "metadata": {},
   "outputs": [
    {
     "data": {
      "text/html": [
       "<div>\n",
       "<style scoped>\n",
       "    .dataframe tbody tr th:only-of-type {\n",
       "        vertical-align: middle;\n",
       "    }\n",
       "\n",
       "    .dataframe tbody tr th {\n",
       "        vertical-align: top;\n",
       "    }\n",
       "\n",
       "    .dataframe thead th {\n",
       "        text-align: right;\n",
       "    }\n",
       "</style>\n",
       "<table border=\"1\" class=\"dataframe\">\n",
       "  <thead>\n",
       "    <tr style=\"text-align: right;\">\n",
       "      <th></th>\n",
       "      <th>variable</th>\n",
       "      <th>coef</th>\n",
       "      <th>abs_coef</th>\n",
       "    </tr>\n",
       "  </thead>\n",
       "  <tbody>\n",
       "    <tr>\n",
       "      <th>5</th>\n",
       "      <td>FGA</td>\n",
       "      <td>-2.170345e+07</td>\n",
       "      <td>2.170345e+07</td>\n",
       "    </tr>\n",
       "    <tr>\n",
       "      <th>31</th>\n",
       "      <td>TRB%</td>\n",
       "      <td>-1.402057e+07</td>\n",
       "      <td>1.402057e+07</td>\n",
       "    </tr>\n",
       "    <tr>\n",
       "      <th>25</th>\n",
       "      <td>PER</td>\n",
       "      <td>-1.309722e+07</td>\n",
       "      <td>1.309722e+07</td>\n",
       "    </tr>\n",
       "    <tr>\n",
       "      <th>11</th>\n",
       "      <td>2PA</td>\n",
       "      <td>1.250681e+07</td>\n",
       "      <td>1.250681e+07</td>\n",
       "    </tr>\n",
       "    <tr>\n",
       "      <th>8</th>\n",
       "      <td>3PA</td>\n",
       "      <td>8.967135e+06</td>\n",
       "      <td>8.967135e+06</td>\n",
       "    </tr>\n",
       "    <tr>\n",
       "      <th>17</th>\n",
       "      <td>DRB</td>\n",
       "      <td>8.696909e+06</td>\n",
       "      <td>8.696909e+06</td>\n",
       "    </tr>\n",
       "    <tr>\n",
       "      <th>30</th>\n",
       "      <td>DRB%</td>\n",
       "      <td>7.738395e+06</td>\n",
       "      <td>7.738395e+06</td>\n",
       "    </tr>\n",
       "    <tr>\n",
       "      <th>24</th>\n",
       "      <td>PTS</td>\n",
       "      <td>7.012452e+06</td>\n",
       "      <td>7.012452e+06</td>\n",
       "    </tr>\n",
       "    <tr>\n",
       "      <th>18</th>\n",
       "      <td>TRB</td>\n",
       "      <td>-6.470864e+06</td>\n",
       "      <td>6.470864e+06</td>\n",
       "    </tr>\n",
       "    <tr>\n",
       "      <th>39</th>\n",
       "      <td>WS</td>\n",
       "      <td>6.302594e+06</td>\n",
       "      <td>6.302594e+06</td>\n",
       "    </tr>\n",
       "    <tr>\n",
       "      <th>29</th>\n",
       "      <td>ORB%</td>\n",
       "      <td>5.785727e+06</td>\n",
       "      <td>5.785727e+06</td>\n",
       "    </tr>\n",
       "    <tr>\n",
       "      <th>36</th>\n",
       "      <td>USG%</td>\n",
       "      <td>5.531569e+06</td>\n",
       "      <td>5.531569e+06</td>\n",
       "    </tr>\n",
       "    <tr>\n",
       "      <th>19</th>\n",
       "      <td>AST</td>\n",
       "      <td>5.385436e+06</td>\n",
       "      <td>5.385436e+06</td>\n",
       "    </tr>\n",
       "    <tr>\n",
       "      <th>16</th>\n",
       "      <td>ORB</td>\n",
       "      <td>5.013010e+06</td>\n",
       "      <td>5.013010e+06</td>\n",
       "    </tr>\n",
       "    <tr>\n",
       "      <th>41</th>\n",
       "      <td>OBPM</td>\n",
       "      <td>4.406081e+06</td>\n",
       "      <td>4.406081e+06</td>\n",
       "    </tr>\n",
       "    <tr>\n",
       "      <th>4</th>\n",
       "      <td>FG</td>\n",
       "      <td>4.360804e+06</td>\n",
       "      <td>4.360804e+06</td>\n",
       "    </tr>\n",
       "    <tr>\n",
       "      <th>34</th>\n",
       "      <td>BLK%</td>\n",
       "      <td>4.149451e+06</td>\n",
       "      <td>4.149451e+06</td>\n",
       "    </tr>\n",
       "    <tr>\n",
       "      <th>37</th>\n",
       "      <td>OWS</td>\n",
       "      <td>-3.774594e+06</td>\n",
       "      <td>3.774594e+06</td>\n",
       "    </tr>\n",
       "    <tr>\n",
       "      <th>13</th>\n",
       "      <td>FT</td>\n",
       "      <td>3.163713e+06</td>\n",
       "      <td>3.163713e+06</td>\n",
       "    </tr>\n",
       "    <tr>\n",
       "      <th>22</th>\n",
       "      <td>TOV</td>\n",
       "      <td>-2.984399e+06</td>\n",
       "      <td>2.984399e+06</td>\n",
       "    </tr>\n",
       "    <tr>\n",
       "      <th>32</th>\n",
       "      <td>AST%</td>\n",
       "      <td>-2.750526e+06</td>\n",
       "      <td>2.750526e+06</td>\n",
       "    </tr>\n",
       "    <tr>\n",
       "      <th>14</th>\n",
       "      <td>FTA</td>\n",
       "      <td>-2.642938e+06</td>\n",
       "      <td>2.642938e+06</td>\n",
       "    </tr>\n",
       "    <tr>\n",
       "      <th>21</th>\n",
       "      <td>BLK</td>\n",
       "      <td>-1.992560e+06</td>\n",
       "      <td>1.992560e+06</td>\n",
       "    </tr>\n",
       "    <tr>\n",
       "      <th>23</th>\n",
       "      <td>PF</td>\n",
       "      <td>-1.976078e+06</td>\n",
       "      <td>1.976078e+06</td>\n",
       "    </tr>\n",
       "    <tr>\n",
       "      <th>0</th>\n",
       "      <td>Age</td>\n",
       "      <td>1.693429e+06</td>\n",
       "      <td>1.693429e+06</td>\n",
       "    </tr>\n",
       "    <tr>\n",
       "      <th>26</th>\n",
       "      <td>TS%</td>\n",
       "      <td>-1.626858e+06</td>\n",
       "      <td>1.626858e+06</td>\n",
       "    </tr>\n",
       "    <tr>\n",
       "      <th>20</th>\n",
       "      <td>STL</td>\n",
       "      <td>1.549055e+06</td>\n",
       "      <td>1.549055e+06</td>\n",
       "    </tr>\n",
       "    <tr>\n",
       "      <th>38</th>\n",
       "      <td>DWS</td>\n",
       "      <td>-1.548802e+06</td>\n",
       "      <td>1.548802e+06</td>\n",
       "    </tr>\n",
       "    <tr>\n",
       "      <th>1</th>\n",
       "      <td>G</td>\n",
       "      <td>-1.387614e+06</td>\n",
       "      <td>1.387614e+06</td>\n",
       "    </tr>\n",
       "    <tr>\n",
       "      <th>2</th>\n",
       "      <td>GS</td>\n",
       "      <td>1.142089e+06</td>\n",
       "      <td>1.142089e+06</td>\n",
       "    </tr>\n",
       "    <tr>\n",
       "      <th>6</th>\n",
       "      <td>FG%</td>\n",
       "      <td>1.052011e+06</td>\n",
       "      <td>1.052011e+06</td>\n",
       "    </tr>\n",
       "    <tr>\n",
       "      <th>7</th>\n",
       "      <td>3P</td>\n",
       "      <td>8.890370e+05</td>\n",
       "      <td>8.890370e+05</td>\n",
       "    </tr>\n",
       "    <tr>\n",
       "      <th>3</th>\n",
       "      <td>MP</td>\n",
       "      <td>7.794854e+05</td>\n",
       "      <td>7.794854e+05</td>\n",
       "    </tr>\n",
       "    <tr>\n",
       "      <th>10</th>\n",
       "      <td>2P</td>\n",
       "      <td>7.234282e+05</td>\n",
       "      <td>7.234282e+05</td>\n",
       "    </tr>\n",
       "    <tr>\n",
       "      <th>35</th>\n",
       "      <td>TOV%</td>\n",
       "      <td>5.726625e+05</td>\n",
       "      <td>5.726625e+05</td>\n",
       "    </tr>\n",
       "    <tr>\n",
       "      <th>27</th>\n",
       "      <td>3PAr</td>\n",
       "      <td>-4.848065e+05</td>\n",
       "      <td>4.848065e+05</td>\n",
       "    </tr>\n",
       "    <tr>\n",
       "      <th>40</th>\n",
       "      <td>WS/48</td>\n",
       "      <td>4.456120e+05</td>\n",
       "      <td>4.456120e+05</td>\n",
       "    </tr>\n",
       "    <tr>\n",
       "      <th>44</th>\n",
       "      <td>VORP</td>\n",
       "      <td>-3.772987e+05</td>\n",
       "      <td>3.772987e+05</td>\n",
       "    </tr>\n",
       "    <tr>\n",
       "      <th>42</th>\n",
       "      <td>DBPM</td>\n",
       "      <td>-2.875251e+05</td>\n",
       "      <td>2.875251e+05</td>\n",
       "    </tr>\n",
       "    <tr>\n",
       "      <th>43</th>\n",
       "      <td>BPM</td>\n",
       "      <td>2.611449e+05</td>\n",
       "      <td>2.611449e+05</td>\n",
       "    </tr>\n",
       "    <tr>\n",
       "      <th>15</th>\n",
       "      <td>FT%</td>\n",
       "      <td>-9.644241e+04</td>\n",
       "      <td>9.644241e+04</td>\n",
       "    </tr>\n",
       "    <tr>\n",
       "      <th>9</th>\n",
       "      <td>3P%</td>\n",
       "      <td>8.485516e+04</td>\n",
       "      <td>8.485516e+04</td>\n",
       "    </tr>\n",
       "    <tr>\n",
       "      <th>28</th>\n",
       "      <td>FTr</td>\n",
       "      <td>-2.809551e+04</td>\n",
       "      <td>2.809551e+04</td>\n",
       "    </tr>\n",
       "    <tr>\n",
       "      <th>33</th>\n",
       "      <td>STL%</td>\n",
       "      <td>1.939204e+04</td>\n",
       "      <td>1.939204e+04</td>\n",
       "    </tr>\n",
       "    <tr>\n",
       "      <th>12</th>\n",
       "      <td>2P%</td>\n",
       "      <td>1.908939e+04</td>\n",
       "      <td>1.908939e+04</td>\n",
       "    </tr>\n",
       "  </tbody>\n",
       "</table>\n",
       "</div>"
      ],
      "text/plain": [
       "   variable          coef      abs_coef\n",
       "5       FGA -2.170345e+07  2.170345e+07\n",
       "31     TRB% -1.402057e+07  1.402057e+07\n",
       "25      PER -1.309722e+07  1.309722e+07\n",
       "11      2PA  1.250681e+07  1.250681e+07\n",
       "8       3PA  8.967135e+06  8.967135e+06\n",
       "17      DRB  8.696909e+06  8.696909e+06\n",
       "30     DRB%  7.738395e+06  7.738395e+06\n",
       "24      PTS  7.012452e+06  7.012452e+06\n",
       "18      TRB -6.470864e+06  6.470864e+06\n",
       "39       WS  6.302594e+06  6.302594e+06\n",
       "29     ORB%  5.785727e+06  5.785727e+06\n",
       "36     USG%  5.531569e+06  5.531569e+06\n",
       "19      AST  5.385436e+06  5.385436e+06\n",
       "16      ORB  5.013010e+06  5.013010e+06\n",
       "41     OBPM  4.406081e+06  4.406081e+06\n",
       "4        FG  4.360804e+06  4.360804e+06\n",
       "34     BLK%  4.149451e+06  4.149451e+06\n",
       "37      OWS -3.774594e+06  3.774594e+06\n",
       "13       FT  3.163713e+06  3.163713e+06\n",
       "22      TOV -2.984399e+06  2.984399e+06\n",
       "32     AST% -2.750526e+06  2.750526e+06\n",
       "14      FTA -2.642938e+06  2.642938e+06\n",
       "21      BLK -1.992560e+06  1.992560e+06\n",
       "23       PF -1.976078e+06  1.976078e+06\n",
       "0       Age  1.693429e+06  1.693429e+06\n",
       "26      TS% -1.626858e+06  1.626858e+06\n",
       "20      STL  1.549055e+06  1.549055e+06\n",
       "38      DWS -1.548802e+06  1.548802e+06\n",
       "1         G -1.387614e+06  1.387614e+06\n",
       "2        GS  1.142089e+06  1.142089e+06\n",
       "6       FG%  1.052011e+06  1.052011e+06\n",
       "7        3P  8.890370e+05  8.890370e+05\n",
       "3        MP  7.794854e+05  7.794854e+05\n",
       "10       2P  7.234282e+05  7.234282e+05\n",
       "35     TOV%  5.726625e+05  5.726625e+05\n",
       "27     3PAr -4.848065e+05  4.848065e+05\n",
       "40    WS/48  4.456120e+05  4.456120e+05\n",
       "44     VORP -3.772987e+05  3.772987e+05\n",
       "42     DBPM -2.875251e+05  2.875251e+05\n",
       "43      BPM  2.611449e+05  2.611449e+05\n",
       "15      FT% -9.644241e+04  9.644241e+04\n",
       "9       3P%  8.485516e+04  8.485516e+04\n",
       "28      FTr -2.809551e+04  2.809551e+04\n",
       "33     STL%  1.939204e+04  1.939204e+04\n",
       "12      2P%  1.908939e+04  1.908939e+04"
      ]
     },
     "execution_count": 39,
     "metadata": {},
     "output_type": "execute_result"
    }
   ],
   "source": [
    "lr_coef_df        =   pd.DataFrame(linreg.coef_, columns=[\"linear_coef\"])\n",
    "lr_coef_df.index  =   X.columns\n",
    "\n",
    "#creating df to look at coefs\n",
    "linreg_coefs = pd.DataFrame({'variable':X.columns,\n",
    "                            'coef':linreg.coef_,\n",
    "                            'abs_coef':np.abs(linreg.coef_)})\n",
    "\n",
    "linreg_coefs.sort_values('abs_coef', inplace=True, ascending=False)\n",
    "\n",
    "linreg_coefs"
   ]
  },
  {
   "cell_type": "code",
   "execution_count": 40,
   "metadata": {},
   "outputs": [
    {
     "data": {
      "text/plain": [
       "<matplotlib.axes._subplots.AxesSubplot at 0x1a1cd46cc0>"
      ]
     },
     "execution_count": 40,
     "metadata": {},
     "output_type": "execute_result"
    },
    {
     "data": {
      "image/png": "[encoded data removed]",
      "text/plain": [
       "<Figure size 720x576 with 1 Axes>"
      ]
     },
     "metadata": {
      "needs_background": "light"
     },
     "output_type": "display_data"
    }
   ],
   "source": [
    "lr_coef_df.sort_values(\"linear_coef\").plot(kind=\"barh\", figsize=(10,8))"
   ]
  },
  {
   "cell_type": "markdown",
   "metadata": {},
   "source": [
    "以上圖為 Basic Linear Regression 各係數的作圖 正係數因素主要都被歸到得分相關的種類\n",
    "雖然有些因素的係數是負的 看似不合理\n",
    "但 cross validated score 大概有 0.48 也仍算是個表現還可以的模型"
   ]
  },
  {
   "cell_type": "markdown",
   "metadata": {},
   "source": [
    "#### Ridge model"
   ]
  },
  {
   "cell_type": "code",
   "execution_count": 41,
   "metadata": {},
   "outputs": [
    {
     "name": "stdout",
     "output_type": "stream",
     "text": [
      "1.096985797892384\n"
     ]
    }
   ],
   "source": [
    "ridge_alphas = np.logspace(-2, 5, 200)\n",
    "\n",
    "optimal_ridge = RidgeCV(alphas=ridge_alphas, cv=5)\n",
    "optimal_ridge.fit(Xtrain, ytrain)\n",
    "\n",
    "print( optimal_ridge.alpha_)"
   ]
  },
  {
   "cell_type": "code",
   "execution_count": 42,
   "metadata": {},
   "outputs": [
    {
     "name": "stdout",
     "output_type": "stream",
     "text": [
      "[0.53190291 0.45819941 0.43044174 0.48986932 0.48344035]\n",
      "0.4787707461729337\n"
     ]
    }
   ],
   "source": [
    "#cross validating using ridge on training data\n",
    "ridge = Ridge(alpha=optimal_ridge.alpha_)\n",
    "\n",
    "ridge_scores = cross_val_score(ridge, Xtrain, ytrain, cv=5)\n",
    "\n",
    "print (ridge_scores)\n",
    "print (np.mean(ridge_scores))"
   ]
  },
  {
   "cell_type": "code",
   "execution_count": 43,
   "metadata": {},
   "outputs": [
    {
     "data": {
      "text/plain": [
       "0.45938186355511135"
      ]
     },
     "execution_count": 43,
     "metadata": {},
     "output_type": "execute_result"
    }
   ],
   "source": [
    "#checking score on test data\n",
    "ridge.fit(Xtrain, ytrain)\n",
    "ridge.score(Xtest, ytest)"
   ]
  },
  {
   "cell_type": "code",
   "execution_count": 44,
   "metadata": {},
   "outputs": [],
   "source": [
    "ridge_coef_df        =   pd.DataFrame(ridge.coef_, columns=[\"ridge_coef\"])\n",
    "ridge_coef_df.index  =   X.columns"
   ]
  },
  {
   "cell_type": "code",
   "execution_count": 45,
   "metadata": {},
   "outputs": [
    {
     "data": {
      "text/html": [
       "<div>\n",
       "<style scoped>\n",
       "    .dataframe tbody tr th:only-of-type {\n",
       "        vertical-align: middle;\n",
       "    }\n",
       "\n",
       "    .dataframe tbody tr th {\n",
       "        vertical-align: top;\n",
       "    }\n",
       "\n",
       "    .dataframe thead th {\n",
       "        text-align: right;\n",
       "    }\n",
       "</style>\n",
       "<table border=\"1\" class=\"dataframe\">\n",
       "  <thead>\n",
       "    <tr style=\"text-align: right;\">\n",
       "      <th></th>\n",
       "      <th>variable</th>\n",
       "      <th>coef</th>\n",
       "      <th>abs_coef</th>\n",
       "    </tr>\n",
       "  </thead>\n",
       "  <tbody>\n",
       "    <tr>\n",
       "      <th>19</th>\n",
       "      <td>AST</td>\n",
       "      <td>3.872455e+06</td>\n",
       "      <td>3.872455e+06</td>\n",
       "    </tr>\n",
       "    <tr>\n",
       "      <th>24</th>\n",
       "      <td>PTS</td>\n",
       "      <td>3.785325e+06</td>\n",
       "      <td>3.785325e+06</td>\n",
       "    </tr>\n",
       "    <tr>\n",
       "      <th>34</th>\n",
       "      <td>BLK%</td>\n",
       "      <td>3.678803e+06</td>\n",
       "      <td>3.678803e+06</td>\n",
       "    </tr>\n",
       "    <tr>\n",
       "      <th>4</th>\n",
       "      <td>FG</td>\n",
       "      <td>3.450545e+06</td>\n",
       "      <td>3.450545e+06</td>\n",
       "    </tr>\n",
       "    <tr>\n",
       "      <th>13</th>\n",
       "      <td>FT</td>\n",
       "      <td>2.955454e+06</td>\n",
       "      <td>2.955454e+06</td>\n",
       "    </tr>\n",
       "    <tr>\n",
       "      <th>17</th>\n",
       "      <td>DRB</td>\n",
       "      <td>2.402859e+06</td>\n",
       "      <td>2.402859e+06</td>\n",
       "    </tr>\n",
       "    <tr>\n",
       "      <th>41</th>\n",
       "      <td>OBPM</td>\n",
       "      <td>2.120245e+06</td>\n",
       "      <td>2.120245e+06</td>\n",
       "    </tr>\n",
       "    <tr>\n",
       "      <th>16</th>\n",
       "      <td>ORB</td>\n",
       "      <td>1.890645e+06</td>\n",
       "      <td>1.890645e+06</td>\n",
       "    </tr>\n",
       "    <tr>\n",
       "      <th>36</th>\n",
       "      <td>USG%</td>\n",
       "      <td>1.885652e+06</td>\n",
       "      <td>1.885652e+06</td>\n",
       "    </tr>\n",
       "    <tr>\n",
       "      <th>0</th>\n",
       "      <td>Age</td>\n",
       "      <td>1.700215e+06</td>\n",
       "      <td>1.700215e+06</td>\n",
       "    </tr>\n",
       "    <tr>\n",
       "      <th>30</th>\n",
       "      <td>DRB%</td>\n",
       "      <td>1.694348e+06</td>\n",
       "      <td>1.694348e+06</td>\n",
       "    </tr>\n",
       "    <tr>\n",
       "      <th>39</th>\n",
       "      <td>WS</td>\n",
       "      <td>1.673464e+06</td>\n",
       "      <td>1.673464e+06</td>\n",
       "    </tr>\n",
       "    <tr>\n",
       "      <th>7</th>\n",
       "      <td>3P</td>\n",
       "      <td>1.480484e+06</td>\n",
       "      <td>1.480484e+06</td>\n",
       "    </tr>\n",
       "    <tr>\n",
       "      <th>20</th>\n",
       "      <td>STL</td>\n",
       "      <td>1.330069e+06</td>\n",
       "      <td>1.330069e+06</td>\n",
       "    </tr>\n",
       "    <tr>\n",
       "      <th>10</th>\n",
       "      <td>2P</td>\n",
       "      <td>1.262315e+06</td>\n",
       "      <td>1.262315e+06</td>\n",
       "    </tr>\n",
       "    <tr>\n",
       "      <th>43</th>\n",
       "      <td>BPM</td>\n",
       "      <td>1.222520e+06</td>\n",
       "      <td>1.222520e+06</td>\n",
       "    </tr>\n",
       "    <tr>\n",
       "      <th>2</th>\n",
       "      <td>GS</td>\n",
       "      <td>1.186291e+06</td>\n",
       "      <td>1.186291e+06</td>\n",
       "    </tr>\n",
       "    <tr>\n",
       "      <th>6</th>\n",
       "      <td>FG%</td>\n",
       "      <td>9.865297e+05</td>\n",
       "      <td>9.865297e+05</td>\n",
       "    </tr>\n",
       "    <tr>\n",
       "      <th>29</th>\n",
       "      <td>ORB%</td>\n",
       "      <td>9.308325e+05</td>\n",
       "      <td>9.308325e+05</td>\n",
       "    </tr>\n",
       "    <tr>\n",
       "      <th>3</th>\n",
       "      <td>MP</td>\n",
       "      <td>8.167379e+05</td>\n",
       "      <td>8.167379e+05</td>\n",
       "    </tr>\n",
       "    <tr>\n",
       "      <th>35</th>\n",
       "      <td>TOV%</td>\n",
       "      <td>5.469229e+05</td>\n",
       "      <td>5.469229e+05</td>\n",
       "    </tr>\n",
       "    <tr>\n",
       "      <th>38</th>\n",
       "      <td>DWS</td>\n",
       "      <td>1.893121e+05</td>\n",
       "      <td>1.893121e+05</td>\n",
       "    </tr>\n",
       "    <tr>\n",
       "      <th>9</th>\n",
       "      <td>3P%</td>\n",
       "      <td>1.075536e+05</td>\n",
       "      <td>1.075536e+05</td>\n",
       "    </tr>\n",
       "    <tr>\n",
       "      <th>12</th>\n",
       "      <td>2P%</td>\n",
       "      <td>7.068043e+04</td>\n",
       "      <td>7.068043e+04</td>\n",
       "    </tr>\n",
       "    <tr>\n",
       "      <th>15</th>\n",
       "      <td>FT%</td>\n",
       "      <td>-4.570974e+04</td>\n",
       "      <td>4.570974e+04</td>\n",
       "    </tr>\n",
       "    <tr>\n",
       "      <th>42</th>\n",
       "      <td>DBPM</td>\n",
       "      <td>-1.201821e+05</td>\n",
       "      <td>1.201821e+05</td>\n",
       "    </tr>\n",
       "    <tr>\n",
       "      <th>28</th>\n",
       "      <td>FTr</td>\n",
       "      <td>-1.732384e+05</td>\n",
       "      <td>1.732384e+05</td>\n",
       "    </tr>\n",
       "    <tr>\n",
       "      <th>8</th>\n",
       "      <td>3PA</td>\n",
       "      <td>-2.234571e+05</td>\n",
       "      <td>2.234571e+05</td>\n",
       "    </tr>\n",
       "    <tr>\n",
       "      <th>44</th>\n",
       "      <td>VORP</td>\n",
       "      <td>-3.593166e+05</td>\n",
       "      <td>3.593166e+05</td>\n",
       "    </tr>\n",
       "    <tr>\n",
       "      <th>11</th>\n",
       "      <td>2PA</td>\n",
       "      <td>-3.835377e+05</td>\n",
       "      <td>3.835377e+05</td>\n",
       "    </tr>\n",
       "    <tr>\n",
       "      <th>37</th>\n",
       "      <td>OWS</td>\n",
       "      <td>-4.587993e+05</td>\n",
       "      <td>4.587993e+05</td>\n",
       "    </tr>\n",
       "    <tr>\n",
       "      <th>33</th>\n",
       "      <td>STL%</td>\n",
       "      <td>-4.751490e+05</td>\n",
       "      <td>4.751490e+05</td>\n",
       "    </tr>\n",
       "    <tr>\n",
       "      <th>40</th>\n",
       "      <td>WS/48</td>\n",
       "      <td>-5.364980e+05</td>\n",
       "      <td>5.364980e+05</td>\n",
       "    </tr>\n",
       "    <tr>\n",
       "      <th>27</th>\n",
       "      <td>3PAr</td>\n",
       "      <td>-5.535505e+05</td>\n",
       "      <td>5.535505e+05</td>\n",
       "    </tr>\n",
       "    <tr>\n",
       "      <th>18</th>\n",
       "      <td>TRB</td>\n",
       "      <td>-6.305528e+05</td>\n",
       "      <td>6.305528e+05</td>\n",
       "    </tr>\n",
       "    <tr>\n",
       "      <th>14</th>\n",
       "      <td>FTA</td>\n",
       "      <td>-1.335902e+06</td>\n",
       "      <td>1.335902e+06</td>\n",
       "    </tr>\n",
       "    <tr>\n",
       "      <th>1</th>\n",
       "      <td>G</td>\n",
       "      <td>-1.367346e+06</td>\n",
       "      <td>1.367346e+06</td>\n",
       "    </tr>\n",
       "    <tr>\n",
       "      <th>26</th>\n",
       "      <td>TS%</td>\n",
       "      <td>-1.409836e+06</td>\n",
       "      <td>1.409836e+06</td>\n",
       "    </tr>\n",
       "    <tr>\n",
       "      <th>23</th>\n",
       "      <td>PF</td>\n",
       "      <td>-1.413504e+06</td>\n",
       "      <td>1.413504e+06</td>\n",
       "    </tr>\n",
       "    <tr>\n",
       "      <th>32</th>\n",
       "      <td>AST%</td>\n",
       "      <td>-1.946563e+06</td>\n",
       "      <td>1.946563e+06</td>\n",
       "    </tr>\n",
       "    <tr>\n",
       "      <th>22</th>\n",
       "      <td>TOV</td>\n",
       "      <td>-1.965923e+06</td>\n",
       "      <td>1.965923e+06</td>\n",
       "    </tr>\n",
       "    <tr>\n",
       "      <th>21</th>\n",
       "      <td>BLK</td>\n",
       "      <td>-2.523161e+06</td>\n",
       "      <td>2.523161e+06</td>\n",
       "    </tr>\n",
       "    <tr>\n",
       "      <th>31</th>\n",
       "      <td>TRB%</td>\n",
       "      <td>-2.736975e+06</td>\n",
       "      <td>2.736975e+06</td>\n",
       "    </tr>\n",
       "    <tr>\n",
       "      <th>5</th>\n",
       "      <td>FGA</td>\n",
       "      <td>-4.666817e+06</td>\n",
       "      <td>4.666817e+06</td>\n",
       "    </tr>\n",
       "    <tr>\n",
       "      <th>25</th>\n",
       "      <td>PER</td>\n",
       "      <td>-8.336651e+06</td>\n",
       "      <td>8.336651e+06</td>\n",
       "    </tr>\n",
       "  </tbody>\n",
       "</table>\n",
       "</div>"
      ],
      "text/plain": [
       "   variable          coef      abs_coef\n",
       "19      AST  3.872455e+06  3.872455e+06\n",
       "24      PTS  3.785325e+06  3.785325e+06\n",
       "34     BLK%  3.678803e+06  3.678803e+06\n",
       "4        FG  3.450545e+06  3.450545e+06\n",
       "13       FT  2.955454e+06  2.955454e+06\n",
       "17      DRB  2.402859e+06  2.402859e+06\n",
       "41     OBPM  2.120245e+06  2.120245e+06\n",
       "16      ORB  1.890645e+06  1.890645e+06\n",
       "36     USG%  1.885652e+06  1.885652e+06\n",
       "0       Age  1.700215e+06  1.700215e+06\n",
       "30     DRB%  1.694348e+06  1.694348e+06\n",
       "39       WS  1.673464e+06  1.673464e+06\n",
       "7        3P  1.480484e+06  1.480484e+06\n",
       "20      STL  1.330069e+06  1.330069e+06\n",
       "10       2P  1.262315e+06  1.262315e+06\n",
       "43      BPM  1.222520e+06  1.222520e+06\n",
       "2        GS  1.186291e+06  1.186291e+06\n",
       "6       FG%  9.865297e+05  9.865297e+05\n",
       "29     ORB%  9.308325e+05  9.308325e+05\n",
       "3        MP  8.167379e+05  8.167379e+05\n",
       "35     TOV%  5.469229e+05  5.469229e+05\n",
       "38      DWS  1.893121e+05  1.893121e+05\n",
       "9       3P%  1.075536e+05  1.075536e+05\n",
       "12      2P%  7.068043e+04  7.068043e+04\n",
       "15      FT% -4.570974e+04  4.570974e+04\n",
       "42     DBPM -1.201821e+05  1.201821e+05\n",
       "28      FTr -1.732384e+05  1.732384e+05\n",
       "8       3PA -2.234571e+05  2.234571e+05\n",
       "44     VORP -3.593166e+05  3.593166e+05\n",
       "11      2PA -3.835377e+05  3.835377e+05\n",
       "37      OWS -4.587993e+05  4.587993e+05\n",
       "33     STL% -4.751490e+05  4.751490e+05\n",
       "40    WS/48 -5.364980e+05  5.364980e+05\n",
       "27     3PAr -5.535505e+05  5.535505e+05\n",
       "18      TRB -6.305528e+05  6.305528e+05\n",
       "14      FTA -1.335902e+06  1.335902e+06\n",
       "1         G -1.367346e+06  1.367346e+06\n",
       "26      TS% -1.409836e+06  1.409836e+06\n",
       "23       PF -1.413504e+06  1.413504e+06\n",
       "32     AST% -1.946563e+06  1.946563e+06\n",
       "22      TOV -1.965923e+06  1.965923e+06\n",
       "21      BLK -2.523161e+06  2.523161e+06\n",
       "31     TRB% -2.736975e+06  2.736975e+06\n",
       "5       FGA -4.666817e+06  4.666817e+06\n",
       "25      PER -8.336651e+06  8.336651e+06"
      ]
     },
     "execution_count": 45,
     "metadata": {},
     "output_type": "execute_result"
    }
   ],
   "source": [
    "#creating df to look at coefs\n",
    "ridge_coefs = pd.DataFrame({'variable':X.columns,\n",
    "                            'coef':ridge.coef_,\n",
    "                            'abs_coef':np.abs(ridge.coef_)})\n",
    "\n",
    "ridge_coefs.sort_values('coef', inplace=True, ascending=False)\n",
    "\n",
    "ridge_coefs"
   ]
  },
  {
   "cell_type": "code",
   "execution_count": 46,
   "metadata": {},
   "outputs": [],
   "source": [
    "ridge_coef_df = pd.DataFrame(optimal_ridge.coef_, columns=[\"ridge_coef\"])\n",
    "ridge_coef_df.index = X.columns"
   ]
  },
  {
   "cell_type": "code",
   "execution_count": 47,
   "metadata": {},
   "outputs": [
    {
     "data": {
      "text/plain": [
       "<matplotlib.axes._subplots.AxesSubplot at 0x1a1ca62b38>"
      ]
     },
     "execution_count": 47,
     "metadata": {},
     "output_type": "execute_result"
    },
    {
     "data": {
      "image/png": "[encoded data removed]",
      "text/plain": [
       "<Figure size 720x576 with 1 Axes>"
      ]
     },
     "metadata": {
      "needs_background": "light"
     },
     "output_type": "display_data"
    }
   ],
   "source": [
    "ridge_coef_df.sort_values(\"ridge_coef\").plot(kind=\"barh\", figsize=(10,8))"
   ]
  },
  {
   "cell_type": "markdown",
   "metadata": {},
   "source": [
    "Ridge regression 似乎對於各因子的權重較平衡一些 例如說籃板 助攻等\n",
    "\n",
    "The ridge model 表現較符合我們直覺 field goal,助攻,被球隊使用的頻率,火鍋比率,進攻籃板 為正係數的前五名\n",
    "\n",
    "因為 Rebounds, Assists, and Points 是籃球最主要的三項數據 因此也合理用這些種類表現去預測一個球員的薪水\n",
    "\n",
    "最後 cross validated score 大概有 0.48 跟basic linear regression表現得差不多\n",
    "\n",
    "但意思詮釋在我看來 Ridge regression 表現較佳"
   ]
  },
  {
   "cell_type": "markdown",
   "metadata": {},
   "source": [
    "#### Lasso model"
   ]
  },
  {
   "cell_type": "code",
   "execution_count": 48,
   "metadata": {},
   "outputs": [
    {
     "name": "stderr",
     "output_type": "stream",
     "text": [
      "[Parallel(n_jobs=-1)]: Using backend ThreadingBackend with 4 concurrent workers.\n",
      "....................................................................................................................................................................................................................................................................................................................................................................................................................................................................................................................................................................................................................................................................................................................................................................................................................................................................................................................................................................................................................................................................................................................................................................................................................................................................................................................................................................................................................................................................................................................................................................................................................................................................................................................................................................................................................................................................................................................................................................................................................................................................................................................................................................................................................................................................................................................................................................................................................................................................................................................................................................................................................................................................................................................................................................................................................................................................................................................................................................................................................................................................................................................................................................................................................................................................................................................................................................................................................................................................................................................................................................................................................................................................................................................................................................................../anaconda3/lib/python3.7/site-packages/sklearn/linear_model/coordinate_descent.py:492: ConvergenceWarning: Objective did not converge. You might want to increase the number of iterations. Fitting data with very small alpha may cause precision problems.\n",
      "  ConvergenceWarning)\n",
      ".........../anaconda3/lib/python3.7/site-packages/sklearn/linear_model/coordinate_descent.py:492: ConvergenceWarning: Objective did not converge. You might want to increase the number of iterations. Fitting data with very small alpha may cause precision problems.\n",
      "  ConvergenceWarning)\n",
      "../anaconda3/lib/python3.7/site-packages/sklearn/linear_model/coordinate_descent.py:492: ConvergenceWarning: Objective did not converge. You might want to increase the number of iterations. Fitting data with very small alpha may cause precision problems.\n",
      "  ConvergenceWarning)\n",
      "...../anaconda3/lib/python3.7/site-packages/sklearn/linear_model/coordinate_descent.py:492: ConvergenceWarning: Objective did not converge. You might want to increase the number of iterations. Fitting data with very small alpha may cause precision problems.\n",
      "  ConvergenceWarning)\n",
      "...../anaconda3/lib/python3.7/site-packages/sklearn/linear_model/coordinate_descent.py:492: ConvergenceWarning: Objective did not converge. You might want to increase the number of iterations. Fitting data with very small alpha may cause precision problems.\n",
      "  ConvergenceWarning)\n",
      "............./anaconda3/lib/python3.7/site-packages/sklearn/linear_model/coordinate_descent.py:492: ConvergenceWarning: Objective did not converge. You might want to increase the number of iterations. Fitting data with very small alpha may cause precision problems.\n",
      "  ConvergenceWarning)\n",
      "........../anaconda3/lib/python3.7/site-packages/sklearn/linear_model/coordinate_descent.py:492: ConvergenceWarning: Objective did not converge. You might want to increase the number of iterations. Fitting data with very small alpha may cause precision problems.\n",
      "  ConvergenceWarning)\n",
      ".........../anaconda3/lib/python3.7/site-packages/sklearn/linear_model/coordinate_descent.py:492: ConvergenceWarning: Objective did not converge. You might want to increase the number of iterations. Fitting data with very small alpha may cause precision problems.\n",
      "  ConvergenceWarning)\n",
      ".........................................................................................................................................................................................................................................................................................................................................................................................................................................................................................................................................................................................................................................................................................................................................................................................................................................................................................................................................................................................................................................................................................................................................................................................................................................................................................................................................../anaconda3/lib/python3.7/site-packages/sklearn/linear_model/coordinate_descent.py:492: ConvergenceWarning: Objective did not converge. You might want to increase the number of iterations. Fitting data with very small alpha may cause precision problems.\n",
      "  ConvergenceWarning)\n",
      "......../anaconda3/lib/python3.7/site-packages/sklearn/linear_model/coordinate_descent.py:492: ConvergenceWarning: Objective did not converge. You might want to increase the number of iterations. Fitting data with very small alpha may cause precision problems.\n",
      "  ConvergenceWarning)\n",
      "...../anaconda3/lib/python3.7/site-packages/sklearn/linear_model/coordinate_descent.py:492: ConvergenceWarning: Objective did not converge. You might want to increase the number of iterations. Fitting data with very small alpha may cause precision problems.\n",
      "  ConvergenceWarning)\n",
      ".[Parallel(n_jobs=-1)]: Done   5 out of   5 | elapsed:    1.2s finished\n"
     ]
    },
    {
     "name": "stdout",
     "output_type": "stream",
     "text": [
      "3580.4770398964138\n"
     ]
    },
    {
     "name": "stderr",
     "output_type": "stream",
     "text": [
      "/anaconda3/lib/python3.7/site-packages/sklearn/linear_model/coordinate_descent.py:492: ConvergenceWarning: Objective did not converge. You might want to increase the number of iterations. Fitting data with very small alpha may cause precision problems.\n",
      "  ConvergenceWarning)\n"
     ]
    }
   ],
   "source": [
    "#finding optimal lasso alpha\n",
    "optimal_lasso = LassoCV(n_alphas=1000, cv=5, verbose=1, n_jobs=-1)\n",
    "optimal_lasso.fit(Xtrain, ytrain)\n",
    "\n",
    "print (optimal_lasso.alpha_)"
   ]
  },
  {
   "cell_type": "code",
   "execution_count": 49,
   "metadata": {},
   "outputs": [
    {
     "name": "stdout",
     "output_type": "stream",
     "text": [
      "[0.53234502 0.45812    0.42929643 0.48823806 0.48435675]\n",
      "0.47847125343872676\n"
     ]
    },
    {
     "name": "stderr",
     "output_type": "stream",
     "text": [
      "/anaconda3/lib/python3.7/site-packages/sklearn/linear_model/coordinate_descent.py:492: ConvergenceWarning: Objective did not converge. You might want to increase the number of iterations. Fitting data with very small alpha may cause precision problems.\n",
      "  ConvergenceWarning)\n",
      "/anaconda3/lib/python3.7/site-packages/sklearn/linear_model/coordinate_descent.py:492: ConvergenceWarning: Objective did not converge. You might want to increase the number of iterations. Fitting data with very small alpha may cause precision problems.\n",
      "  ConvergenceWarning)\n",
      "/anaconda3/lib/python3.7/site-packages/sklearn/linear_model/coordinate_descent.py:492: ConvergenceWarning: Objective did not converge. You might want to increase the number of iterations. Fitting data with very small alpha may cause precision problems.\n",
      "  ConvergenceWarning)\n",
      "/anaconda3/lib/python3.7/site-packages/sklearn/linear_model/coordinate_descent.py:492: ConvergenceWarning: Objective did not converge. You might want to increase the number of iterations. Fitting data with very small alpha may cause precision problems.\n",
      "  ConvergenceWarning)\n",
      "/anaconda3/lib/python3.7/site-packages/sklearn/linear_model/coordinate_descent.py:492: ConvergenceWarning: Objective did not converge. You might want to increase the number of iterations. Fitting data with very small alpha may cause precision problems.\n",
      "  ConvergenceWarning)\n"
     ]
    }
   ],
   "source": [
    "#cross validating using lasso on training data\n",
    "lasso = Lasso(alpha=optimal_lasso.alpha_)\n",
    "\n",
    "lasso_scores = cross_val_score(lasso, Xtrain, ytrain, cv=5)\n",
    "\n",
    "print (lasso_scores)\n",
    "print (np.mean(lasso_scores))"
   ]
  },
  {
   "cell_type": "code",
   "execution_count": 50,
   "metadata": {},
   "outputs": [
    {
     "name": "stderr",
     "output_type": "stream",
     "text": [
      "/anaconda3/lib/python3.7/site-packages/sklearn/linear_model/coordinate_descent.py:492: ConvergenceWarning: Objective did not converge. You might want to increase the number of iterations. Fitting data with very small alpha may cause precision problems.\n",
      "  ConvergenceWarning)\n"
     ]
    },
    {
     "data": {
      "text/plain": [
       "0.45669174826919035"
      ]
     },
     "execution_count": 50,
     "metadata": {},
     "output_type": "execute_result"
    }
   ],
   "source": [
    "lasso.fit(Xtrain, ytrain)\n",
    "lasso.score(Xtest, ytest)"
   ]
  },
  {
   "cell_type": "code",
   "execution_count": 51,
   "metadata": {},
   "outputs": [
    {
     "data": {
      "text/html": [
       "<div>\n",
       "<style scoped>\n",
       "    .dataframe tbody tr th:only-of-type {\n",
       "        vertical-align: middle;\n",
       "    }\n",
       "\n",
       "    .dataframe tbody tr th {\n",
       "        vertical-align: top;\n",
       "    }\n",
       "\n",
       "    .dataframe thead th {\n",
       "        text-align: right;\n",
       "    }\n",
       "</style>\n",
       "<table border=\"1\" class=\"dataframe\">\n",
       "  <thead>\n",
       "    <tr style=\"text-align: right;\">\n",
       "      <th></th>\n",
       "      <th>variable</th>\n",
       "      <th>coef</th>\n",
       "      <th>abs_coef</th>\n",
       "    </tr>\n",
       "  </thead>\n",
       "  <tbody>\n",
       "    <tr>\n",
       "      <th>25</th>\n",
       "      <td>PER</td>\n",
       "      <td>-7.300705e+06</td>\n",
       "      <td>7.300705e+06</td>\n",
       "    </tr>\n",
       "    <tr>\n",
       "      <th>4</th>\n",
       "      <td>FG</td>\n",
       "      <td>4.939031e+06</td>\n",
       "      <td>4.939031e+06</td>\n",
       "    </tr>\n",
       "    <tr>\n",
       "      <th>34</th>\n",
       "      <td>BLK%</td>\n",
       "      <td>3.463052e+06</td>\n",
       "      <td>3.463052e+06</td>\n",
       "    </tr>\n",
       "    <tr>\n",
       "      <th>19</th>\n",
       "      <td>AST</td>\n",
       "      <td>3.277142e+06</td>\n",
       "      <td>3.277142e+06</td>\n",
       "    </tr>\n",
       "    <tr>\n",
       "      <th>5</th>\n",
       "      <td>FGA</td>\n",
       "      <td>-2.909578e+06</td>\n",
       "      <td>2.909578e+06</td>\n",
       "    </tr>\n",
       "    <tr>\n",
       "      <th>13</th>\n",
       "      <td>FT</td>\n",
       "      <td>2.855465e+06</td>\n",
       "      <td>2.855465e+06</td>\n",
       "    </tr>\n",
       "    <tr>\n",
       "      <th>21</th>\n",
       "      <td>BLK</td>\n",
       "      <td>-2.534453e+06</td>\n",
       "      <td>2.534453e+06</td>\n",
       "    </tr>\n",
       "    <tr>\n",
       "      <th>24</th>\n",
       "      <td>PTS</td>\n",
       "      <td>2.149024e+06</td>\n",
       "      <td>2.149024e+06</td>\n",
       "    </tr>\n",
       "    <tr>\n",
       "      <th>41</th>\n",
       "      <td>OBPM</td>\n",
       "      <td>1.870087e+06</td>\n",
       "      <td>1.870087e+06</td>\n",
       "    </tr>\n",
       "    <tr>\n",
       "      <th>0</th>\n",
       "      <td>Age</td>\n",
       "      <td>1.710388e+06</td>\n",
       "      <td>1.710388e+06</td>\n",
       "    </tr>\n",
       "    <tr>\n",
       "      <th>32</th>\n",
       "      <td>AST%</td>\n",
       "      <td>-1.590222e+06</td>\n",
       "      <td>1.590222e+06</td>\n",
       "    </tr>\n",
       "    <tr>\n",
       "      <th>22</th>\n",
       "      <td>TOV</td>\n",
       "      <td>-1.366143e+06</td>\n",
       "      <td>1.366143e+06</td>\n",
       "    </tr>\n",
       "    <tr>\n",
       "      <th>1</th>\n",
       "      <td>G</td>\n",
       "      <td>-1.316904e+06</td>\n",
       "      <td>1.316904e+06</td>\n",
       "    </tr>\n",
       "    <tr>\n",
       "      <th>23</th>\n",
       "      <td>PF</td>\n",
       "      <td>-1.295604e+06</td>\n",
       "      <td>1.295604e+06</td>\n",
       "    </tr>\n",
       "    <tr>\n",
       "      <th>26</th>\n",
       "      <td>TS%</td>\n",
       "      <td>-1.238562e+06</td>\n",
       "      <td>1.238562e+06</td>\n",
       "    </tr>\n",
       "    <tr>\n",
       "      <th>17</th>\n",
       "      <td>DRB</td>\n",
       "      <td>1.214994e+06</td>\n",
       "      <td>1.214994e+06</td>\n",
       "    </tr>\n",
       "    <tr>\n",
       "      <th>2</th>\n",
       "      <td>GS</td>\n",
       "      <td>1.209363e+06</td>\n",
       "      <td>1.209363e+06</td>\n",
       "    </tr>\n",
       "    <tr>\n",
       "      <th>16</th>\n",
       "      <td>ORB</td>\n",
       "      <td>1.160676e+06</td>\n",
       "      <td>1.160676e+06</td>\n",
       "    </tr>\n",
       "    <tr>\n",
       "      <th>43</th>\n",
       "      <td>BPM</td>\n",
       "      <td>1.034410e+06</td>\n",
       "      <td>1.034410e+06</td>\n",
       "    </tr>\n",
       "    <tr>\n",
       "      <th>7</th>\n",
       "      <td>3P</td>\n",
       "      <td>9.756338e+05</td>\n",
       "      <td>9.756338e+05</td>\n",
       "    </tr>\n",
       "    <tr>\n",
       "      <th>39</th>\n",
       "      <td>WS</td>\n",
       "      <td>9.122626e+05</td>\n",
       "      <td>9.122626e+05</td>\n",
       "    </tr>\n",
       "    <tr>\n",
       "      <th>3</th>\n",
       "      <td>MP</td>\n",
       "      <td>8.409592e+05</td>\n",
       "      <td>8.409592e+05</td>\n",
       "    </tr>\n",
       "    <tr>\n",
       "      <th>6</th>\n",
       "      <td>FG%</td>\n",
       "      <td>8.391561e+05</td>\n",
       "      <td>8.391561e+05</td>\n",
       "    </tr>\n",
       "    <tr>\n",
       "      <th>20</th>\n",
       "      <td>STL</td>\n",
       "      <td>6.857374e+05</td>\n",
       "      <td>6.857374e+05</td>\n",
       "    </tr>\n",
       "    <tr>\n",
       "      <th>14</th>\n",
       "      <td>FTA</td>\n",
       "      <td>-6.580486e+05</td>\n",
       "      <td>6.580486e+05</td>\n",
       "    </tr>\n",
       "    <tr>\n",
       "      <th>35</th>\n",
       "      <td>TOV%</td>\n",
       "      <td>5.181243e+05</td>\n",
       "      <td>5.181243e+05</td>\n",
       "    </tr>\n",
       "    <tr>\n",
       "      <th>27</th>\n",
       "      <td>3PAr</td>\n",
       "      <td>-4.774601e+05</td>\n",
       "      <td>4.774601e+05</td>\n",
       "    </tr>\n",
       "    <tr>\n",
       "      <th>30</th>\n",
       "      <td>DRB%</td>\n",
       "      <td>4.300416e+05</td>\n",
       "      <td>4.300416e+05</td>\n",
       "    </tr>\n",
       "    <tr>\n",
       "      <th>40</th>\n",
       "      <td>WS/48</td>\n",
       "      <td>-4.113899e+05</td>\n",
       "      <td>4.113899e+05</td>\n",
       "    </tr>\n",
       "    <tr>\n",
       "      <th>38</th>\n",
       "      <td>DWS</td>\n",
       "      <td>3.800257e+05</td>\n",
       "      <td>3.800257e+05</td>\n",
       "    </tr>\n",
       "    <tr>\n",
       "      <th>44</th>\n",
       "      <td>VORP</td>\n",
       "      <td>-2.334941e+05</td>\n",
       "      <td>2.334941e+05</td>\n",
       "    </tr>\n",
       "    <tr>\n",
       "      <th>28</th>\n",
       "      <td>FTr</td>\n",
       "      <td>-1.833899e+05</td>\n",
       "      <td>1.833899e+05</td>\n",
       "    </tr>\n",
       "    <tr>\n",
       "      <th>9</th>\n",
       "      <td>3P%</td>\n",
       "      <td>9.147180e+04</td>\n",
       "      <td>9.147180e+04</td>\n",
       "    </tr>\n",
       "    <tr>\n",
       "      <th>12</th>\n",
       "      <td>2P%</td>\n",
       "      <td>7.371380e+04</td>\n",
       "      <td>7.371380e+04</td>\n",
       "    </tr>\n",
       "    <tr>\n",
       "      <th>42</th>\n",
       "      <td>DBPM</td>\n",
       "      <td>4.946861e+04</td>\n",
       "      <td>4.946861e+04</td>\n",
       "    </tr>\n",
       "    <tr>\n",
       "      <th>15</th>\n",
       "      <td>FT%</td>\n",
       "      <td>-2.694927e+04</td>\n",
       "      <td>2.694927e+04</td>\n",
       "    </tr>\n",
       "    <tr>\n",
       "      <th>8</th>\n",
       "      <td>3PA</td>\n",
       "      <td>2.385668e+04</td>\n",
       "      <td>2.385668e+04</td>\n",
       "    </tr>\n",
       "    <tr>\n",
       "      <th>11</th>\n",
       "      <td>2PA</td>\n",
       "      <td>-1.252577e+04</td>\n",
       "      <td>1.252577e+04</td>\n",
       "    </tr>\n",
       "    <tr>\n",
       "      <th>31</th>\n",
       "      <td>TRB%</td>\n",
       "      <td>0.000000e+00</td>\n",
       "      <td>0.000000e+00</td>\n",
       "    </tr>\n",
       "    <tr>\n",
       "      <th>33</th>\n",
       "      <td>STL%</td>\n",
       "      <td>-0.000000e+00</td>\n",
       "      <td>0.000000e+00</td>\n",
       "    </tr>\n",
       "    <tr>\n",
       "      <th>29</th>\n",
       "      <td>ORB%</td>\n",
       "      <td>0.000000e+00</td>\n",
       "      <td>0.000000e+00</td>\n",
       "    </tr>\n",
       "    <tr>\n",
       "      <th>36</th>\n",
       "      <td>USG%</td>\n",
       "      <td>0.000000e+00</td>\n",
       "      <td>0.000000e+00</td>\n",
       "    </tr>\n",
       "    <tr>\n",
       "      <th>37</th>\n",
       "      <td>OWS</td>\n",
       "      <td>0.000000e+00</td>\n",
       "      <td>0.000000e+00</td>\n",
       "    </tr>\n",
       "    <tr>\n",
       "      <th>10</th>\n",
       "      <td>2P</td>\n",
       "      <td>0.000000e+00</td>\n",
       "      <td>0.000000e+00</td>\n",
       "    </tr>\n",
       "    <tr>\n",
       "      <th>18</th>\n",
       "      <td>TRB</td>\n",
       "      <td>0.000000e+00</td>\n",
       "      <td>0.000000e+00</td>\n",
       "    </tr>\n",
       "  </tbody>\n",
       "</table>\n",
       "</div>"
      ],
      "text/plain": [
       "   variable          coef      abs_coef\n",
       "25      PER -7.300705e+06  7.300705e+06\n",
       "4        FG  4.939031e+06  4.939031e+06\n",
       "34     BLK%  3.463052e+06  3.463052e+06\n",
       "19      AST  3.277142e+06  3.277142e+06\n",
       "5       FGA -2.909578e+06  2.909578e+06\n",
       "13       FT  2.855465e+06  2.855465e+06\n",
       "21      BLK -2.534453e+06  2.534453e+06\n",
       "24      PTS  2.149024e+06  2.149024e+06\n",
       "41     OBPM  1.870087e+06  1.870087e+06\n",
       "0       Age  1.710388e+06  1.710388e+06\n",
       "32     AST% -1.590222e+06  1.590222e+06\n",
       "22      TOV -1.366143e+06  1.366143e+06\n",
       "1         G -1.316904e+06  1.316904e+06\n",
       "23       PF -1.295604e+06  1.295604e+06\n",
       "26      TS% -1.238562e+06  1.238562e+06\n",
       "17      DRB  1.214994e+06  1.214994e+06\n",
       "2        GS  1.209363e+06  1.209363e+06\n",
       "16      ORB  1.160676e+06  1.160676e+06\n",
       "43      BPM  1.034410e+06  1.034410e+06\n",
       "7        3P  9.756338e+05  9.756338e+05\n",
       "39       WS  9.122626e+05  9.122626e+05\n",
       "3        MP  8.409592e+05  8.409592e+05\n",
       "6       FG%  8.391561e+05  8.391561e+05\n",
       "20      STL  6.857374e+05  6.857374e+05\n",
       "14      FTA -6.580486e+05  6.580486e+05\n",
       "35     TOV%  5.181243e+05  5.181243e+05\n",
       "27     3PAr -4.774601e+05  4.774601e+05\n",
       "30     DRB%  4.300416e+05  4.300416e+05\n",
       "40    WS/48 -4.113899e+05  4.113899e+05\n",
       "38      DWS  3.800257e+05  3.800257e+05\n",
       "44     VORP -2.334941e+05  2.334941e+05\n",
       "28      FTr -1.833899e+05  1.833899e+05\n",
       "9       3P%  9.147180e+04  9.147180e+04\n",
       "12      2P%  7.371380e+04  7.371380e+04\n",
       "42     DBPM  4.946861e+04  4.946861e+04\n",
       "15      FT% -2.694927e+04  2.694927e+04\n",
       "8       3PA  2.385668e+04  2.385668e+04\n",
       "11      2PA -1.252577e+04  1.252577e+04\n",
       "31     TRB%  0.000000e+00  0.000000e+00\n",
       "33     STL% -0.000000e+00  0.000000e+00\n",
       "29     ORB%  0.000000e+00  0.000000e+00\n",
       "36     USG%  0.000000e+00  0.000000e+00\n",
       "37      OWS  0.000000e+00  0.000000e+00\n",
       "10       2P  0.000000e+00  0.000000e+00\n",
       "18      TRB  0.000000e+00  0.000000e+00"
      ]
     },
     "execution_count": 51,
     "metadata": {},
     "output_type": "execute_result"
    }
   ],
   "source": [
    "#creating df to look at coefs\n",
    "lasso_coefs = pd.DataFrame({'variable':X.columns,\n",
    "                            'coef':lasso.coef_,\n",
    "                            'abs_coef':np.abs(lasso.coef_)})\n",
    "\n",
    "lasso_coefs.sort_values('abs_coef', inplace=True, ascending=False)\n",
    "\n",
    "lasso_coefs"
   ]
  },
  {
   "cell_type": "code",
   "execution_count": 52,
   "metadata": {},
   "outputs": [
    {
     "name": "stdout",
     "output_type": "stream",
     "text": [
      "Percent variables zeroed out: 0.15555555555555556\n"
     ]
    }
   ],
   "source": [
    "#Lasso cancels out 33% of features.\n",
    "print ('Percent variables zeroed out:', np.sum((lasso.coef_ == 0))/float(Xtrain.shape[1]))"
   ]
  },
  {
   "cell_type": "code",
   "execution_count": 53,
   "metadata": {},
   "outputs": [],
   "source": [
    "lasso_coef_df        =   pd.DataFrame(lasso.coef_, columns=[\"lasso_coef\"])\n",
    "lasso_coef_df.index  =   X.columns"
   ]
  },
  {
   "cell_type": "code",
   "execution_count": 54,
   "metadata": {},
   "outputs": [
    {
     "data": {
      "text/plain": [
       "<matplotlib.axes._subplots.AxesSubplot at 0x10678d9e8>"
      ]
     },
     "execution_count": 54,
     "metadata": {},
     "output_type": "execute_result"
    },
    {
     "data": {
      "image/png": "[encoded data removed]",
      "text/plain": [
       "<Figure size 720x576 with 1 Axes>"
      ]
     },
     "metadata": {
      "needs_background": "light"
     },
     "output_type": "display_data"
    }
   ],
   "source": [
    "lasso_coef_df.sort_values(\"lasso_coef\").plot(kind=\"barh\", figsize=(10,8))"
   ]
  },
  {
   "cell_type": "markdown",
   "metadata": {},
   "source": [
    "Lasso regression model 將太多 variables 都變成0了\n",
    "\n",
    "將15%的種類的詮釋效力都變成0\n",
    "\n",
    "The lasso model is also performing very similar to the Linear Regression and Ridge models with a score of 0.49."
   ]
  },
  {
   "cell_type": "markdown",
   "metadata": {},
   "source": [
    "#### Plotting all my residuals on one plot¶"
   ]
  },
  {
   "cell_type": "code",
   "execution_count": 55,
   "metadata": {},
   "outputs": [
    {
     "data": {
      "text/plain": [
       "<matplotlib.axes._subplots.AxesSubplot at 0x1a1d661198>"
      ]
     },
     "execution_count": 55,
     "metadata": {},
     "output_type": "execute_result"
    },
    {
     "data": {
      "image/png": "[encoded data removed]",
      "text/plain": [
       "<Figure size 720x576 with 1 Axes>"
      ]
     },
     "metadata": {
      "needs_background": "light"
     },
     "output_type": "display_data"
    }
   ],
   "source": [
    "all_coefs = lr_coef_df.join([ridge_coef_df, lasso_coef_df])\n",
    "all_coefs_ss = ss.fit_transform(all_coefs)\n",
    "all_coefs_ss_df = pd.DataFrame(all_coefs_ss, columns=['linreg_coefs', 'ridge_coefs', 'lasso_coefs'])\n",
    "all_coefs_ss_df.index = all_coefs.index\n",
    "all_coefs_ss_df.sort_values(\"ridge_coefs\", ascending=True).plot(kind=\"barh\", figsize=(10, 8))"
   ]
  },
  {
   "cell_type": "code",
   "execution_count": 56,
   "metadata": {},
   "outputs": [
    {
     "data": {
      "text/plain": [
       "<matplotlib.axes._subplots.AxesSubplot at 0x1a212fbe48>"
      ]
     },
     "execution_count": 56,
     "metadata": {},
     "output_type": "execute_result"
    },
    {
     "data": {
      "image/png": "[encoded data removed]",
      "text/plain": [
       "<Figure size 720x576 with 1 Axes>"
      ]
     },
     "metadata": {
      "needs_background": "light"
     },
     "output_type": "display_data"
    }
   ],
   "source": [
    "mask = all_coefs_ss_df.apply(lambda row: any(row.abs().values > 0.75), axis=1)\n",
    "all_coefs_ss_df[mask].sort_values(\"ridge_coefs\", ascending=True).plot(kind=\"barh\", figsize=(10, 8))"
   ]
  },
  {
   "cell_type": "markdown",
   "metadata": {},
   "source": [
    "This plot is showing the weight that each model is putting on the different categories. The bar plot above has been masked to only show the categories where one of the models is weighting a category over 0.75. Categories with weights less than 0.75 are not shown."
   ]
  },
  {
   "cell_type": "markdown",
   "metadata": {},
   "source": [
    "#### ElasticNet model"
   ]
  },
  {
   "cell_type": "code",
   "execution_count": 57,
   "metadata": {},
   "outputs": [
    {
     "name": "stderr",
     "output_type": "stream",
     "text": [
      "[Parallel(n_jobs=1)]: Using backend SequentialBackend with 1 concurrent workers.\n"
     ]
    },
    {
     "name": "stderr",
     "output_type": "stream",
     "text": [
      "...................................................................................................................................................................................................................................................................................................................................................................................................................................................................................................................................................................................................................................................................................................................................................................................................................................................................................................................................................................................................................................................................................................................................................................................................................................................................................................................................................................................................................................................................................................................................................................................................................................................................................................................................................................................................................................................................................................................................................................................................................................................................................................................................................................................................................................................................................................................................................................................................................................................................................................................................................................................................................................................................................................................................................................................................................................................................................................................................................................................................................................................................................................................................................................................................................................................................................................................................................................................................................................................................................................................................................................................................................................................................................................................................................................................................................................................................................................................................................................................................................................................................................................................................................................................................................................................................................................................................................................................................................................................................................................................................................................................................................................................................................................................................................................................................................................................................................................................................................................................................................................................................................................................................................................................................................................................................................................................................................................................................................................................................................................................................................................................................................................................................................................................................................................................................................................................................................................................................................................................................................................................................................................................................................................................................................................................................................................................................................................................................................................................................................................................................................................................................................................................................................................................................................................................................................................................................................................................................................................................................................................................................................................................................................................................................................................................................................................................................................................................................................................................................................................................................................................................................................................................................................................................................................................................................................................................................................................................................................................................................................................................................................................................................................................................................................................................................................................................................................................................................................................................................................................................................................................................................................................................................................................................................................................................................................................................................................................................................................................................................................................................................................................................................................................................................................................................................................................................................................................................................................................................................................................................................................................................................................................................................................................................................................................................................................................................................................................................................................................................................................................................................................................................................................................................................................................................................................................................................................................................................................................................................................................................................................................................................................................................................................................................................................................................................................................................................................................................................................................................................................................................................................................................................................................................................................................................................................................................................................................................................................................................................................................................................................................................................................................................................................................................................................................................................................................................................................................................................................................................................................................................................................................................................................................................................................................................................................................................................................................................................................................................................................................................................................................................................................................................................................................................................................................................................................................................................................................................................................................................................................................................................................................................................................................................................................................................................................................................................................................................................................................................................................................................................................................................................................................................................................................................................................................................................................................................................................................................................................................................................................................................................................................................................................................................................................................................................................................................................................................................................................................................................................................................................................................................................................................................................................................................................................................................................................................................................................................................................................................................................................................................................................................................................................................................................................................................................................................................................................................................................................................................................................................................................................................................................................................................................................................................................................................................................................................................................................................................................................................................................................................................................................................................................................................................................................................................................................................................................................................................................................................................................................................................................................................................................................................................................................................................................................................................................................................................................................................................................................................................................................................................................................................................................................................................................................................................................................................................................................................................................................................................................................................................................................................................................................................................................................................................................................................................................................................................................................................................................................................................................................................................................................................................................................................................................................................................................................................................................................................................................................................."
     ]
    },
    {
     "name": "stderr",
     "output_type": "stream",
     "text": [
      ".........................................................................................................................................................................................................................................................................................................................................................................................................................................................................................................................................................................................................................................................................................................................................................................................................................................................................................................................................................................................................................................................................................................................................................................................................................................................................................................................................................................................................................................................................................................................................................................................................................................................................................................................................................................................................................................................................................................................................................................................................................................................................................................................................................................................................................................................................................................................................................................................................................................................................................................................................................................................................................................................................................................................................................................................................................................................................................................................................................................................................................................................................................................................................................................................................................................................................................................................................................................................................................................................................................................................................................................................................................................................................................................................................................................................................................................................................................................................................................................................................................................................................................................................................................................................................................................................................................................................................................................................................................................................................................................................................................................................................................................................................................................................................................................................................................................................................................................................................................................................................................................................................................................................................................................................................................................................................................................................................................................................................................................................................................................................................................................................................................................................................................................................................................................................................................................................................................................................................................................................................................................................................................................................................................................................................................................................................................................................................................................................................................................................................................................................................................................................................................................................................................................................................................................................................................................................................................................................................................................................................................................................................................................................................................................................................................................................................................................................................................................................................................................................................................................................................................................................................................................................................................................................................................................................................................................................................................................................................................................................................................................................................................................................................................................................................................................................................................................................................................................................................................................................................................................................................................................................................."
     ]
    },
    {
     "name": "stderr",
     "output_type": "stream",
     "text": [
      ".............................................................................................................................................................................................................................................................................................................................................................................................................................................................................................................................................................................................................................................................................................................................................................................................................................................................................................................................................................................................................................................................................................................................................................................................................................................................................................................................................................................................................................................................................................................................................................................................................................................................................................................................................................................................................................................................................................................................................................................................................................................................................................................................................................................................................................................................................................................................................................................................................................................................................................................................................................................................................................................................................................................................................................................................................................................................................................................................................................................................................................................................................................................................................................................................................................................................................................................................................................................................................................................................................................................................................................................................................................................................................................................................................................................................................................................................................................................................................................................................................................................................................................................................................................................................................................................................................................................................................................................................................................................................................................................................................................................................................................................................................................................................................................................................................................................................................................................................................................................................................................................................................................................................................................................................................................................................................................................................................................................................................................................................................................................................................................................................................................................................................................................................................................................................................................................................................................................................................................................................................................................................................................................................................................................................................................................................................................................................................................................................................................................................................................................................................................................................................................................................................................................................................................................................................................................................................................................................................................................................................................................................................................................................................................................................................................................................................................................................................................................................................................................................................................................................................................................................................................................................................................................................................................................................................................................................................................................................................................................................................................................................................................................................................................................................................................................................................................................................................................................................................................................................................................................................................................................."
     ]
    },
    {
     "name": "stderr",
     "output_type": "stream",
     "text": [
      ".................................................................................................................................................................................................................................................................................................................................................................................................................................................................................................................................................................................................................................................................................................................................................................................................................................................................................................................................................................................................................................................................................................................................................................................................................................................................................................................................................................................................................................................................................................................................................................................................................................................................................................................................................................................................................................................................................................................................................................................................................................................................................................................................................................................................................................................................................................................................................................................................................................................................................................................................................................................................................................................................................................................................................................................................................................................................................................................................................................................................................................................................................................................................................................................................................................................................................................................................................................................................................................................................................................................................................................................................................................................................................................................................................................................................................................................................................................................................................................................................................................................................................................................................................................................................................................................................................................................................................................................................................................................................................................................................................................................................................................................................................................................................................................................................................................................................................................................................................................................................................................................................................................................................................................................................................................................................................................................................................................................................................................................................................................................................................................................................................................................................................................................................................................................................................................................................................................................................................................................................................................................................................................................................................................................................................................................................................................................................................................................................................................................................................................................................................................................................................................................................................................................................................................................................................................................................................................................................................................................................................................................................................................................................................................................................................................................................................................................................................................................................................................................................................................................................................................................................................................................................................................................................................................................................................................................................................................................................................................................................................................................................................................................................................................................................................................................................................................................................................................................................................................................................................................................................................................................................................................."
     ]
    },
    {
     "name": "stderr",
     "output_type": "stream",
     "text": [
      ".........................................................................................................................................................................................................................................................................................................................................................................................................................................................................................................................................................................................................................................................................................................................................................................................................................................................................................................................................................................................................................................................................................................................................................................................................................................................................................................................................................................................................................................................................................................................................................................................................................................................................................................................................................................................................................................................................................................................................................................................................................................................................................................................................................................................................................................................................................................................................................................................................................................................................................................................................................................................................................................................................................................................................................................................................................................................................................................................................................................................................................................................................................................................................................................................................................................................................................................................................................................................................................................................................................................................................................................................................................................................................................................................................................................................................................................................................................................................................................................................................................................................................................................................................................................................................................................................................................................................................................................................................................................................................................................................................................................................................................................................................................................................................................................................................................................................................................................................................................................................................................................................................................................................................................................................................................................................................................................................................................................................................................................................................................................................................................................................................................................................................................................................................................................................................................................................................................................................................................................................................................................................................................................................................................................................................................................................................................................................................................................................................................................................................................................................................................................................................................................................................................................................................................................................................................................................................................................................................................................................................................................................................................................................................................................................................................................................................................................................................................................................................................................................................................................................................................................................................................................................................................................................................................................................................................................................................................................................................................................................................................................................................................................................................................................................................................................................................................................................................................................................................................................................................................................................................................................................................................................................................................................................................................................................................................................................."
     ]
    },
    {
     "name": "stderr",
     "output_type": "stream",
     "text": [
      "........................................................................................................................................................................................................................................................................................................................................................................................................................................................................................................................................................................................................................................................................................................................................................................................................................................................................................................................................................................................................................................................................................................................................................................................................................................................................................................................................................................................................................................................................................................................................................................................................................................................................................................................................................................................................................................................................................................................................................................................................................................................................................................................................................................................................................................................................................................................................................................................................................................................................................................................................................................................................................................................................................................................................................................................................................................................................................................................................................................................................................................................................................................................................................................................................................................................................................................................................................................................................................................................................................................................................................................................................................................................................................................................................................................................................................................................................................................................................................................................................................................................................................................................................................................................................................................................................................................................................................................................................................................................................................................................................................................................................................................................................................................................................................................................................................................................................................................................................................................................................................................................................................................................................................................................................................................................................................................................................................................................................................................................................................................................................................................................................................................................................................................................................................................................................................................................................................................................................................................................................................................................................................................................................................................................................................................................................................................................................................................................................................................................................................................................................................................................................................................................................................................................................................................................................................................................................................................................................................................................................................................................................................................................................................................................................................................................................................................................................................................................................................................................................................................................................................................................................................................................................................................................................................................................................................................................................................................................................................................................................................................................................................................................................................................................................................................................................................................................................................................................................................................................................................................................................................................................................................................................................................................................................................................................................................................................................................................................................................................................................................................................................................................................................................................................................................................................................................................................................................................."
     ]
    },
    {
     "name": "stderr",
     "output_type": "stream",
     "text": [
      "......................................................................................................................................................................................................................................................................................................................................................................................................................................................................................................................................................................................................................................................................................................................................................................................................................................................................................................................................................................................................................................................................................................................................................................................................................................................................................................................................................................................................................................................................................................................................................................................................................................................................................................................................................................................................................................................................................................................................................................................................................................................................................................................................................................................................................................................................................................................................................................................................................................................................................................................................................................................................................................................................................................................................................................................................................................................................................................................................................................................................................................................................................................................................................................................................................................................................................................................................................................................................................................................................................................................................................................................................................................................................................................................................................................................................................................................................................................................................................................................................................................................................................................................................................................................................................................................................................................................................................................................................................................................................................................................................................................................................................................................................................................................................................................................................................................................................................................................................................................................................................................................................................................................................................................................................................................................................................................................................................................................................................................................................................................................................................................................................................................................................................................................................................................................................................................................................................................................................................................................................................................................................................................................................................................................................................................................................................................................................................................................................................................................................................................................................................................................................................................................................................................................................................................................................................................................................................................................................................................................................................................................................................................................................................................................................................................................................................................................................................................................................................................................................................................................................................................................................................................................................................................................................................................................................................................................................................................................................................................................................................................................................................................................................................................................................................................................................................................................................................................................................................................................................................................................................................................................................................................................................................................................................................................................................................................................................................................................................................................................................................................................................................................................................................................................................................................................................................................................................................................."
     ]
    },
    {
     "name": "stderr",
     "output_type": "stream",
     "text": [
      ".........................................................................................................................................................................................................................................................................................................................................................................................................................................................................................................................................................................................................................................................................................................................................................................................................................................................................................................................................................................................................................................................................................................................................................................................................................................................................................................................................................................................................................................................................................................................................................................................................................................................................................................................................................................................................................................................................................................................................................................................................................................................................................................................................................................................................................................................................................................................................................................................................................................................................................................................................................................................................................................................................................................................................................................................................................................................................................................................................................................................................................................................................................................................................................................................................................................................................................................................................................................................................................................................................................................................................................................................................................................................................................................................................................................................................................................................................................................................................................................................................................................................................................................................................................................................................................................................................................................................................................................................................................................................................................................................................................................................................................................................................................................................................................................................................................................................................................................................................................................../anaconda3/lib/python3.7/site-packages/sklearn/linear_model/coordinate_descent.py:492: ConvergenceWarning: Objective did not converge. You might want to increase the number of iterations. Fitting data with very small alpha may cause precision problems.\n",
      "  ConvergenceWarning)\n",
      "./anaconda3/lib/python3.7/site-packages/sklearn/linear_model/coordinate_descent.py:492: ConvergenceWarning: Objective did not converge. You might want to increase the number of iterations. Fitting data with very small alpha may cause precision problems.\n",
      "  ConvergenceWarning)\n",
      "./anaconda3/lib/python3.7/site-packages/sklearn/linear_model/coordinate_descent.py:492: ConvergenceWarning: Objective did not converge. You might want to increase the number of iterations. Fitting data with very small alpha may cause precision problems.\n",
      "  ConvergenceWarning)\n",
      "............/anaconda3/lib/python3.7/site-packages/sklearn/linear_model/coordinate_descent.py:492: ConvergenceWarning: Objective did not converge. You might want to increase the number of iterations. Fitting data with very small alpha may cause precision problems.\n",
      "  ConvergenceWarning)\n",
      "......................................................................................................................................................................................................................................................................................................./anaconda3/lib/python3.7/site-packages/sklearn/linear_model/coordinate_descent.py:492: ConvergenceWarning: Objective did not converge. You might want to increase the number of iterations. Fitting data with very small alpha may cause precision problems.\n",
      "  ConvergenceWarning)\n",
      "./anaconda3/lib/python3.7/site-packages/sklearn/linear_model/coordinate_descent.py:492: ConvergenceWarning: Objective did not converge. You might want to increase the number of iterations. Fitting data with very small alpha may cause precision problems.\n",
      "  ConvergenceWarning)\n",
      "./anaconda3/lib/python3.7/site-packages/sklearn/linear_model/coordinate_descent.py:492: ConvergenceWarning: Objective did not converge. You might want to increase the number of iterations. Fitting data with very small alpha may cause precision problems.\n",
      "  ConvergenceWarning)\n",
      "./anaconda3/lib/python3.7/site-packages/sklearn/linear_model/coordinate_descent.py:492: ConvergenceWarning: Objective did not converge. You might want to increase the number of iterations. Fitting data with very small alpha may cause precision problems.\n",
      "  ConvergenceWarning)\n",
      "./anaconda3/lib/python3.7/site-packages/sklearn/linear_model/coordinate_descent.py:492: ConvergenceWarning: Objective did not converge. You might want to increase the number of iterations. Fitting data with very small alpha may cause precision problems.\n",
      "  ConvergenceWarning)\n",
      "./anaconda3/lib/python3.7/site-packages/sklearn/linear_model/coordinate_descent.py:492: ConvergenceWarning: Objective did not converge. You might want to increase the number of iterations. Fitting data with very small alpha may cause precision problems.\n",
      "  ConvergenceWarning)\n",
      "./anaconda3/lib/python3.7/site-packages/sklearn/linear_model/coordinate_descent.py:492: ConvergenceWarning: Objective did not converge. You might want to increase the number of iterations. Fitting data with very small alpha may cause precision problems.\n",
      "  ConvergenceWarning)\n",
      "./anaconda3/lib/python3.7/site-packages/sklearn/linear_model/coordinate_descent.py:492: ConvergenceWarning: Objective did not converge. You might want to increase the number of iterations. Fitting data with very small alpha may cause precision problems.\n",
      "  ConvergenceWarning)\n",
      "./anaconda3/lib/python3.7/site-packages/sklearn/linear_model/coordinate_descent.py:492: ConvergenceWarning: Objective did not converge. You might want to increase the number of iterations. Fitting data with very small alpha may cause precision problems.\n",
      "  ConvergenceWarning)\n",
      "./anaconda3/lib/python3.7/site-packages/sklearn/linear_model/coordinate_descent.py:492: ConvergenceWarning: Objective did not converge. You might want to increase the number of iterations. Fitting data with very small alpha may cause precision problems.\n",
      "  ConvergenceWarning)\n",
      "./anaconda3/lib/python3.7/site-packages/sklearn/linear_model/coordinate_descent.py:492: ConvergenceWarning: Objective did not converge. You might want to increase the number of iterations. Fitting data with very small alpha may cause precision problems.\n",
      "  ConvergenceWarning)\n",
      "./anaconda3/lib/python3.7/site-packages/sklearn/linear_model/coordinate_descent.py:492: ConvergenceWarning: Objective did not converge. You might want to increase the number of iterations. Fitting data with very small alpha may cause precision problems.\n",
      "  ConvergenceWarning)\n"
     ]
    },
    {
     "name": "stderr",
     "output_type": "stream",
     "text": [
      "................................................................................................................................................................................................................................................................................................../anaconda3/lib/python3.7/site-packages/sklearn/linear_model/coordinate_descent.py:492: ConvergenceWarning: Objective did not converge. You might want to increase the number of iterations. Fitting data with very small alpha may cause precision problems.\n",
      "  ConvergenceWarning)\n",
      "./anaconda3/lib/python3.7/site-packages/sklearn/linear_model/coordinate_descent.py:492: ConvergenceWarning: Objective did not converge. You might want to increase the number of iterations. Fitting data with very small alpha may cause precision problems.\n",
      "  ConvergenceWarning)\n",
      "./anaconda3/lib/python3.7/site-packages/sklearn/linear_model/coordinate_descent.py:492: ConvergenceWarning: Objective did not converge. You might want to increase the number of iterations. Fitting data with very small alpha may cause precision problems.\n",
      "  ConvergenceWarning)\n",
      "./anaconda3/lib/python3.7/site-packages/sklearn/linear_model/coordinate_descent.py:492: ConvergenceWarning: Objective did not converge. You might want to increase the number of iterations. Fitting data with very small alpha may cause precision problems.\n",
      "  ConvergenceWarning)\n",
      "./anaconda3/lib/python3.7/site-packages/sklearn/linear_model/coordinate_descent.py:492: ConvergenceWarning: Objective did not converge. You might want to increase the number of iterations. Fitting data with very small alpha may cause precision problems.\n",
      "  ConvergenceWarning)\n",
      "./anaconda3/lib/python3.7/site-packages/sklearn/linear_model/coordinate_descent.py:492: ConvergenceWarning: Objective did not converge. You might want to increase the number of iterations. Fitting data with very small alpha may cause precision problems.\n",
      "  ConvergenceWarning)\n",
      "./anaconda3/lib/python3.7/site-packages/sklearn/linear_model/coordinate_descent.py:492: ConvergenceWarning: Objective did not converge. You might want to increase the number of iterations. Fitting data with very small alpha may cause precision problems.\n",
      "  ConvergenceWarning)\n",
      "./anaconda3/lib/python3.7/site-packages/sklearn/linear_model/coordinate_descent.py:492: ConvergenceWarning: Objective did not converge. You might want to increase the number of iterations. Fitting data with very small alpha may cause precision problems.\n",
      "  ConvergenceWarning)\n",
      "./anaconda3/lib/python3.7/site-packages/sklearn/linear_model/coordinate_descent.py:492: ConvergenceWarning: Objective did not converge. You might want to increase the number of iterations. Fitting data with very small alpha may cause precision problems.\n",
      "  ConvergenceWarning)\n",
      "./anaconda3/lib/python3.7/site-packages/sklearn/linear_model/coordinate_descent.py:492: ConvergenceWarning: Objective did not converge. You might want to increase the number of iterations. Fitting data with very small alpha may cause precision problems.\n",
      "  ConvergenceWarning)\n",
      "./anaconda3/lib/python3.7/site-packages/sklearn/linear_model/coordinate_descent.py:492: ConvergenceWarning: Objective did not converge. You might want to increase the number of iterations. Fitting data with very small alpha may cause precision problems.\n",
      "  ConvergenceWarning)\n",
      "............................................................................................................................................................................................................................./anaconda3/lib/python3.7/site-packages/sklearn/linear_model/coordinate_descent.py:492: ConvergenceWarning: Objective did not converge. You might want to increase the number of iterations. Fitting data with very small alpha may cause precision problems.\n",
      "  ConvergenceWarning)\n",
      "./anaconda3/lib/python3.7/site-packages/sklearn/linear_model/coordinate_descent.py:492: ConvergenceWarning: Objective did not converge. You might want to increase the number of iterations. Fitting data with very small alpha may cause precision problems.\n",
      "  ConvergenceWarning)\n",
      ".................................................../anaconda3/lib/python3.7/site-packages/sklearn/linear_model/coordinate_descent.py:492: ConvergenceWarning: Objective did not converge. You might want to increase the number of iterations. Fitting data with very small alpha may cause precision problems.\n",
      "  ConvergenceWarning)\n",
      "./anaconda3/lib/python3.7/site-packages/sklearn/linear_model/coordinate_descent.py:492: ConvergenceWarning: Objective did not converge. You might want to increase the number of iterations. Fitting data with very small alpha may cause precision problems.\n",
      "  ConvergenceWarning)\n",
      "./anaconda3/lib/python3.7/site-packages/sklearn/linear_model/coordinate_descent.py:492: ConvergenceWarning: Objective did not converge. You might want to increase the number of iterations. Fitting data with very small alpha may cause precision problems.\n",
      "  ConvergenceWarning)\n",
      "./anaconda3/lib/python3.7/site-packages/sklearn/linear_model/coordinate_descent.py:492: ConvergenceWarning: Objective did not converge. You might want to increase the number of iterations. Fitting data with very small alpha may cause precision problems.\n",
      "  ConvergenceWarning)\n",
      "./anaconda3/lib/python3.7/site-packages/sklearn/linear_model/coordinate_descent.py:492: ConvergenceWarning: Objective did not converge. You might want to increase the number of iterations. Fitting data with very small alpha may cause precision problems.\n",
      "  ConvergenceWarning)\n",
      "./anaconda3/lib/python3.7/site-packages/sklearn/linear_model/coordinate_descent.py:492: ConvergenceWarning: Objective did not converge. You might want to increase the number of iterations. Fitting data with very small alpha may cause precision problems.\n",
      "  ConvergenceWarning)\n",
      "./anaconda3/lib/python3.7/site-packages/sklearn/linear_model/coordinate_descent.py:492: ConvergenceWarning: Objective did not converge. You might want to increase the number of iterations. Fitting data with very small alpha may cause precision problems.\n",
      "  ConvergenceWarning)\n",
      "./anaconda3/lib/python3.7/site-packages/sklearn/linear_model/coordinate_descent.py:492: ConvergenceWarning: Objective did not converge. You might want to increase the number of iterations. Fitting data with very small alpha may cause precision problems.\n",
      "  ConvergenceWarning)\n",
      "./anaconda3/lib/python3.7/site-packages/sklearn/linear_model/coordinate_descent.py:492: ConvergenceWarning: Objective did not converge. You might want to increase the number of iterations. Fitting data with very small alpha may cause precision problems.\n",
      "  ConvergenceWarning)\n",
      "./anaconda3/lib/python3.7/site-packages/sklearn/linear_model/coordinate_descent.py:492: ConvergenceWarning: Objective did not converge. You might want to increase the number of iterations. Fitting data with very small alpha may cause precision problems.\n",
      "  ConvergenceWarning)\n",
      "./anaconda3/lib/python3.7/site-packages/sklearn/linear_model/coordinate_descent.py:492: ConvergenceWarning: Objective did not converge. You might want to increase the number of iterations. Fitting data with very small alpha may cause precision problems.\n",
      "  ConvergenceWarning)\n",
      "./anaconda3/lib/python3.7/site-packages/sklearn/linear_model/coordinate_descent.py:492: ConvergenceWarning: Objective did not converge. You might want to increase the number of iterations. Fitting data with very small alpha may cause precision problems.\n",
      "  ConvergenceWarning)\n",
      "./anaconda3/lib/python3.7/site-packages/sklearn/linear_model/coordinate_descent.py:492: ConvergenceWarning: Objective did not converge. You might want to increase the number of iterations. Fitting data with very small alpha may cause precision problems.\n",
      "  ConvergenceWarning)\n",
      "./anaconda3/lib/python3.7/site-packages/sklearn/linear_model/coordinate_descent.py:492: ConvergenceWarning: Objective did not converge. You might want to increase the number of iterations. Fitting data with very small alpha may cause precision problems.\n",
      "  ConvergenceWarning)\n",
      "./anaconda3/lib/python3.7/site-packages/sklearn/linear_model/coordinate_descent.py:492: ConvergenceWarning: Objective did not converge. You might want to increase the number of iterations. Fitting data with very small alpha may cause precision problems.\n",
      "  ConvergenceWarning)\n",
      "./anaconda3/lib/python3.7/site-packages/sklearn/linear_model/coordinate_descent.py:492: ConvergenceWarning: Objective did not converge. You might want to increase the number of iterations. Fitting data with very small alpha may cause precision problems.\n",
      "  ConvergenceWarning)\n",
      "......./anaconda3/lib/python3.7/site-packages/sklearn/linear_model/coordinate_descent.py:492: ConvergenceWarning: Objective did not converge. You might want to increase the number of iterations. Fitting data with very small alpha may cause precision problems.\n",
      "  ConvergenceWarning)\n",
      "./anaconda3/lib/python3.7/site-packages/sklearn/linear_model/coordinate_descent.py:492: ConvergenceWarning: Objective did not converge. You might want to increase the number of iterations. Fitting data with very small alpha may cause precision problems.\n",
      "  ConvergenceWarning)\n",
      "..................................................................................................................................................................................................."
     ]
    },
    {
     "name": "stdout",
     "output_type": "stream",
     "text": [
      "3548.001205589361\n",
      "1.0\n"
     ]
    },
    {
     "name": "stderr",
     "output_type": "stream",
     "text": [
      "................................................................................/anaconda3/lib/python3.7/site-packages/sklearn/linear_model/coordinate_descent.py:492: ConvergenceWarning: Objective did not converge. You might want to increase the number of iterations. Fitting data with very small alpha may cause precision problems.\n",
      "  ConvergenceWarning)\n",
      "./anaconda3/lib/python3.7/site-packages/sklearn/linear_model/coordinate_descent.py:492: ConvergenceWarning: Objective did not converge. You might want to increase the number of iterations. Fitting data with very small alpha may cause precision problems.\n",
      "  ConvergenceWarning)\n",
      "./anaconda3/lib/python3.7/site-packages/sklearn/linear_model/coordinate_descent.py:492: ConvergenceWarning: Objective did not converge. You might want to increase the number of iterations. Fitting data with very small alpha may cause precision problems.\n",
      "  ConvergenceWarning)\n",
      "./anaconda3/lib/python3.7/site-packages/sklearn/linear_model/coordinate_descent.py:492: ConvergenceWarning: Objective did not converge. You might want to increase the number of iterations. Fitting data with very small alpha may cause precision problems.\n",
      "  ConvergenceWarning)\n",
      "................../anaconda3/lib/python3.7/site-packages/sklearn/linear_model/coordinate_descent.py:492: ConvergenceWarning: Objective did not converge. You might want to increase the number of iterations. Fitting data with very small alpha may cause precision problems.\n",
      "  ConvergenceWarning)\n",
      "../anaconda3/lib/python3.7/site-packages/sklearn/linear_model/coordinate_descent.py:492: ConvergenceWarning: Objective did not converge. You might want to increase the number of iterations. Fitting data with very small alpha may cause precision problems.\n",
      "  ConvergenceWarning)\n",
      "../anaconda3/lib/python3.7/site-packages/sklearn/linear_model/coordinate_descent.py:492: ConvergenceWarning: Objective did not converge. You might want to increase the number of iterations. Fitting data with very small alpha may cause precision problems.\n",
      "  ConvergenceWarning)\n",
      "../anaconda3/lib/python3.7/site-packages/sklearn/linear_model/coordinate_descent.py:492: ConvergenceWarning: Objective did not converge. You might want to increase the number of iterations. Fitting data with very small alpha may cause precision problems.\n",
      "  ConvergenceWarning)\n",
      "../anaconda3/lib/python3.7/site-packages/sklearn/linear_model/coordinate_descent.py:492: ConvergenceWarning: Objective did not converge. You might want to increase the number of iterations. Fitting data with very small alpha may cause precision problems.\n",
      "  ConvergenceWarning)\n",
      ".[Parallel(n_jobs=1)]: Done 250 out of 250 | elapsed:   16.9s finished\n",
      "/anaconda3/lib/python3.7/site-packages/sklearn/linear_model/coordinate_descent.py:492: ConvergenceWarning: Objective did not converge. You might want to increase the number of iterations. Fitting data with very small alpha may cause precision problems.\n",
      "  ConvergenceWarning)\n"
     ]
    }
   ],
   "source": [
    "#finding optimal enet alpha and l1 ratio\n",
    "l1_ratios = np.linspace(0.01, 1.0, 50)\n",
    "\n",
    "optimal_enet = ElasticNetCV(l1_ratio=l1_ratios, n_alphas=300, cv=5,\n",
    "                            verbose=1)\n",
    "optimal_enet.fit(Xtrain, ytrain)\n",
    "\n",
    "print (optimal_enet.alpha_)\n",
    "print(optimal_enet.l1_ratio_)"
   ]
  },
  {
   "cell_type": "code",
   "execution_count": 58,
   "metadata": {},
   "outputs": [
    {
     "name": "stderr",
     "output_type": "stream",
     "text": [
      "/anaconda3/lib/python3.7/site-packages/sklearn/linear_model/coordinate_descent.py:492: ConvergenceWarning: Objective did not converge. You might want to increase the number of iterations. Fitting data with very small alpha may cause precision problems.\n",
      "  ConvergenceWarning)\n"
     ]
    },
    {
     "name": "stdout",
     "output_type": "stream",
     "text": [
      "[0.53236217 0.45805609 0.42930871 0.48831648 0.48433757]\n",
      "0.4784762051657367\n"
     ]
    },
    {
     "name": "stderr",
     "output_type": "stream",
     "text": [
      "/anaconda3/lib/python3.7/site-packages/sklearn/linear_model/coordinate_descent.py:492: ConvergenceWarning: Objective did not converge. You might want to increase the number of iterations. Fitting data with very small alpha may cause precision problems.\n",
      "  ConvergenceWarning)\n",
      "/anaconda3/lib/python3.7/site-packages/sklearn/linear_model/coordinate_descent.py:492: ConvergenceWarning: Objective did not converge. You might want to increase the number of iterations. Fitting data with very small alpha may cause precision problems.\n",
      "  ConvergenceWarning)\n",
      "/anaconda3/lib/python3.7/site-packages/sklearn/linear_model/coordinate_descent.py:492: ConvergenceWarning: Objective did not converge. You might want to increase the number of iterations. Fitting data with very small alpha may cause precision problems.\n",
      "  ConvergenceWarning)\n",
      "/anaconda3/lib/python3.7/site-packages/sklearn/linear_model/coordinate_descent.py:492: ConvergenceWarning: Objective did not converge. You might want to increase the number of iterations. Fitting data with very small alpha may cause precision problems.\n",
      "  ConvergenceWarning)\n"
     ]
    }
   ],
   "source": [
    "#cross validating enet with training data\n",
    "enet = ElasticNet(alpha=optimal_enet.alpha_, l1_ratio=optimal_enet.l1_ratio_)\n",
    "\n",
    "enet_scores = cross_val_score(enet, Xtrain, ytrain, cv=5)\n",
    "\n",
    "print (enet_scores)\n",
    "print( np.mean(enet_scores))"
   ]
  },
  {
   "cell_type": "code",
   "execution_count": 59,
   "metadata": {},
   "outputs": [
    {
     "name": "stderr",
     "output_type": "stream",
     "text": [
      "/anaconda3/lib/python3.7/site-packages/sklearn/linear_model/coordinate_descent.py:492: ConvergenceWarning: Objective did not converge. You might want to increase the number of iterations. Fitting data with very small alpha may cause precision problems.\n",
      "  ConvergenceWarning)\n",
      "/anaconda3/lib/python3.7/site-packages/sklearn/linear_model/coordinate_descent.py:492: ConvergenceWarning: Objective did not converge. You might want to increase the number of iterations. Fitting data with very small alpha may cause precision problems.\n",
      "  ConvergenceWarning)\n"
     ]
    },
    {
     "data": {
      "text/plain": [
       "Lasso(alpha=3580.4770398964138, copy_X=True, fit_intercept=True,\n",
       "   max_iter=1000, normalize=False, positive=False, precompute=False,\n",
       "   random_state=None, selection='cyclic', tol=0.0001, warm_start=False)"
      ]
     },
     "execution_count": 59,
     "metadata": {},
     "output_type": "execute_result"
    }
   ],
   "source": [
    "# Need to fit the ElasticNet and Ridge outside of cross_val_score like i did with the ridge\n",
    "ridge.fit(Xtrain, ytrain)\n",
    "enet.fit(Xtrain, ytrain)\n",
    "lasso.fit(Xtrain, ytrain)"
   ]
  },
  {
   "cell_type": "markdown",
   "metadata": {},
   "source": [
    "ElasticNet model is weighting the L1 ratio at 1.0.\n",
    "\n",
    "This 1.0 L1 ratio essentially makes the ENet model the same as the Lasso Regression model."
   ]
  },
  {
   "cell_type": "markdown",
   "metadata": {},
   "source": [
    "#### Plotting residuals"
   ]
  },
  {
   "cell_type": "code",
   "execution_count": 60,
   "metadata": {},
   "outputs": [],
   "source": [
    "# model residuals:\n",
    "\n",
    "ridge_resid = ytrain - ridge.predict(Xtrain)\n",
    "lasso_resid = ytrain - lasso.predict(Xtrain)\n",
    "enet_resid = ytrain - enet.predict(Xtrain)"
   ]
  },
  {
   "cell_type": "code",
   "execution_count": 61,
   "metadata": {},
   "outputs": [
    {
     "data": {
      "image/png": "[encoded data removed]",
      "text/plain": [
       "<Figure size 1296x432 with 3 Axes>"
      ]
     },
     "metadata": {
      "needs_background": "light"
     },
     "output_type": "display_data"
    }
   ],
   "source": [
    "fig, axarr = plt.subplots(1, 3, figsize=(18, 6))\n",
    "\n",
    "sns.distplot(ridge_resid, bins=50, hist=True, kde=False, \n",
    "             color='steelblue', ax=axarr[0], axlabel='Ridge residuals')\n",
    "\n",
    "sns.distplot(lasso_resid, bins=50, hist=True, kde=False, \n",
    "             color='darkred', ax=axarr[1], axlabel='Lasso residuals')\n",
    "\n",
    "sns.distplot(enet_resid, bins=50, hist=True, kde=False, \n",
    "             color='darkgoldenrod', ax=axarr[2], axlabel='ElasticNet residuals')\n",
    "\n",
    "plt.show()"
   ]
  },
  {
   "cell_type": "markdown",
   "metadata": {},
   "source": [
    "My residual plots are all pretty much the same considering my scores were all around the same as well."
   ]
  },
  {
   "cell_type": "markdown",
   "metadata": {},
   "source": [
    "### Regression Models summary:\n",
    "All four of the models are scoring around the same with a score of about 0.45.\n",
    "\n",
    "The ridge regression model makes the most sense intuitively because it is weighting the statistical categories uniformly rather than putting a heavy weight on just one or two categories like the linear regression did.\n",
    "\n",
    "Also the Ridge handles the multicollinearity of my dataset a lot better than the Lasso does. The ridge weights all the categories appropriately while the Lasso completely zeroes out 15% my predictors, many of which are important to consider when predicting salary."
   ]
  },
  {
   "cell_type": "markdown",
   "metadata": {},
   "source": [
    "### 因此總結我最後用 ridge regression model 來預測球員的薪水"
   ]
  },
  {
   "cell_type": "markdown",
   "metadata": {},
   "source": [
    "### 現在來看用模型預測出來薪水被高估以及被低估的球員"
   ]
  },
  {
   "cell_type": "code",
   "execution_count": 62,
   "metadata": {},
   "outputs": [],
   "source": [
    "df_values['Predicted'] = ridge.predict(Xn)"
   ]
  },
  {
   "cell_type": "code",
   "execution_count": 63,
   "metadata": {},
   "outputs": [],
   "source": [
    "pred_df = df_values[['SALARY', 'Predicted']]"
   ]
  },
  {
   "cell_type": "code",
   "execution_count": 64,
   "metadata": {},
   "outputs": [
    {
     "name": "stderr",
     "output_type": "stream",
     "text": [
      "/anaconda3/lib/python3.7/site-packages/ipykernel_launcher.py:1: SettingWithCopyWarning: \n",
      "A value is trying to be set on a copy of a slice from a DataFrame.\n",
      "Try using .loc[row_indexer,col_indexer] = value instead\n",
      "\n",
      "See the caveats in the documentation: http://pandas.pydata.org/pandas-docs/stable/indexing.html#indexing-view-versus-copy\n",
      "  \"\"\"Entry point for launching an IPython kernel.\n"
     ]
    }
   ],
   "source": [
    "pred_df['sal_difference'] = pred_df['SALARY'] - pred_df['Predicted']"
   ]
  },
  {
   "cell_type": "code",
   "execution_count": 65,
   "metadata": {},
   "outputs": [],
   "source": [
    "pred_df = pd.concat([pred_df, df.iloc[:,1:]], axis=1)"
   ]
  },
  {
   "cell_type": "code",
   "execution_count": 66,
   "metadata": {},
   "outputs": [],
   "source": [
    "pred_df = pred_df[['Player', 'Year', 'SALARY', 'Predicted', 'sal_difference']]"
   ]
  },
  {
   "cell_type": "code",
   "execution_count": 67,
   "metadata": {},
   "outputs": [],
   "source": [
    "pred_df['abs_diff'] = np.abs(pred_df['sal_difference'])"
   ]
  },
  {
   "cell_type": "code",
   "execution_count": 68,
   "metadata": {},
   "outputs": [],
   "source": [
    "pred_df = pred_df.sort_values('abs_diff', ascending=True)"
   ]
  },
  {
   "cell_type": "markdown",
   "metadata": {},
   "source": [
    "#### 這邊為薪水被低估的前20名球員"
   ]
  },
  {
   "cell_type": "code",
   "execution_count": 69,
   "metadata": {},
   "outputs": [
    {
     "data": {
      "text/html": [
       "<div>\n",
       "<style scoped>\n",
       "    .dataframe tbody tr th:only-of-type {\n",
       "        vertical-align: middle;\n",
       "    }\n",
       "\n",
       "    .dataframe tbody tr th {\n",
       "        vertical-align: top;\n",
       "    }\n",
       "\n",
       "    .dataframe thead th {\n",
       "        text-align: right;\n",
       "    }\n",
       "</style>\n",
       "<table border=\"1\" class=\"dataframe\">\n",
       "  <thead>\n",
       "    <tr style=\"text-align: right;\">\n",
       "      <th></th>\n",
       "      <th>Player</th>\n",
       "      <th>Year</th>\n",
       "      <th>SALARY</th>\n",
       "      <th>Predicted</th>\n",
       "      <th>sal_difference</th>\n",
       "      <th>abs_diff</th>\n",
       "    </tr>\n",
       "  </thead>\n",
       "  <tbody>\n",
       "    <tr>\n",
       "      <th>1460</th>\n",
       "      <td>Mike Scott</td>\n",
       "      <td>2016</td>\n",
       "      <td>3333333.0</td>\n",
       "      <td>3.333327e+06</td>\n",
       "      <td>5.752103</td>\n",
       "      <td>5.752103</td>\n",
       "    </tr>\n",
       "    <tr>\n",
       "      <th>1964</th>\n",
       "      <td>Bojan Bogdanovic</td>\n",
       "      <td>2018</td>\n",
       "      <td>10500000.0</td>\n",
       "      <td>1.050011e+07</td>\n",
       "      <td>-111.795047</td>\n",
       "      <td>111.795047</td>\n",
       "    </tr>\n",
       "    <tr>\n",
       "      <th>1095</th>\n",
       "      <td>Isaiah Thomas</td>\n",
       "      <td>2015</td>\n",
       "      <td>7238606.0</td>\n",
       "      <td>7.239455e+06</td>\n",
       "      <td>-848.825797</td>\n",
       "      <td>848.825797</td>\n",
       "    </tr>\n",
       "    <tr>\n",
       "      <th>45</th>\n",
       "      <td>Trevor Booker</td>\n",
       "      <td>2013</td>\n",
       "      <td>2350820.0</td>\n",
       "      <td>2.357069e+06</td>\n",
       "      <td>-6249.084126</td>\n",
       "      <td>6249.084126</td>\n",
       "    </tr>\n",
       "    <tr>\n",
       "      <th>730</th>\n",
       "      <td>D.J. White</td>\n",
       "      <td>2014</td>\n",
       "      <td>104028.0</td>\n",
       "      <td>9.683005e+04</td>\n",
       "      <td>7197.946700</td>\n",
       "      <td>7197.946700</td>\n",
       "    </tr>\n",
       "    <tr>\n",
       "      <th>1902</th>\n",
       "      <td>Okaro White</td>\n",
       "      <td>2017</td>\n",
       "      <td>210995.0</td>\n",
       "      <td>2.186001e+05</td>\n",
       "      <td>-7605.078494</td>\n",
       "      <td>7605.078494</td>\n",
       "    </tr>\n",
       "    <tr>\n",
       "      <th>1134</th>\n",
       "      <td>Dorell Wright</td>\n",
       "      <td>2015</td>\n",
       "      <td>3150000.0</td>\n",
       "      <td>3.158408e+06</td>\n",
       "      <td>-8408.149506</td>\n",
       "      <td>8408.149506</td>\n",
       "    </tr>\n",
       "    <tr>\n",
       "      <th>701</th>\n",
       "      <td>Mirza Teletovic</td>\n",
       "      <td>2014</td>\n",
       "      <td>3229050.0</td>\n",
       "      <td>3.220518e+06</td>\n",
       "      <td>8531.986317</td>\n",
       "      <td>8531.986317</td>\n",
       "    </tr>\n",
       "    <tr>\n",
       "      <th>3</th>\n",
       "      <td>Josh Akognon</td>\n",
       "      <td>2013</td>\n",
       "      <td>473604.0</td>\n",
       "      <td>4.650330e+05</td>\n",
       "      <td>8571.005623</td>\n",
       "      <td>8571.005623</td>\n",
       "    </tr>\n",
       "    <tr>\n",
       "      <th>2267</th>\n",
       "      <td>Nick Young</td>\n",
       "      <td>2018</td>\n",
       "      <td>5192000.0</td>\n",
       "      <td>5.201258e+06</td>\n",
       "      <td>-9257.661033</td>\n",
       "      <td>9257.661033</td>\n",
       "    </tr>\n",
       "    <tr>\n",
       "      <th>470</th>\n",
       "      <td>Luigi Datome</td>\n",
       "      <td>2014</td>\n",
       "      <td>1750000.0</td>\n",
       "      <td>1.761863e+06</td>\n",
       "      <td>-11863.211950</td>\n",
       "      <td>11863.211950</td>\n",
       "    </tr>\n",
       "    <tr>\n",
       "      <th>272</th>\n",
       "      <td>Sasha Pavlovic</td>\n",
       "      <td>2013</td>\n",
       "      <td>1232713.0</td>\n",
       "      <td>1.218745e+06</td>\n",
       "      <td>13968.139006</td>\n",
       "      <td>13968.139006</td>\n",
       "    </tr>\n",
       "    <tr>\n",
       "      <th>777</th>\n",
       "      <td>Kent Bazemore</td>\n",
       "      <td>2015</td>\n",
       "      <td>2000000.0</td>\n",
       "      <td>1.985635e+06</td>\n",
       "      <td>14364.796660</td>\n",
       "      <td>14364.796660</td>\n",
       "    </tr>\n",
       "    <tr>\n",
       "      <th>1805</th>\n",
       "      <td>Jahlil Okafor</td>\n",
       "      <td>2017</td>\n",
       "      <td>4788840.0</td>\n",
       "      <td>4.774082e+06</td>\n",
       "      <td>14758.240669</td>\n",
       "      <td>14758.240669</td>\n",
       "    </tr>\n",
       "    <tr>\n",
       "      <th>611</th>\n",
       "      <td>Ray McCallum</td>\n",
       "      <td>2014</td>\n",
       "      <td>524616.0</td>\n",
       "      <td>5.398095e+05</td>\n",
       "      <td>-15193.488478</td>\n",
       "      <td>15193.488478</td>\n",
       "    </tr>\n",
       "    <tr>\n",
       "      <th>1775</th>\n",
       "      <td>Jordan Mickey</td>\n",
       "      <td>2017</td>\n",
       "      <td>1223653.0</td>\n",
       "      <td>1.207620e+06</td>\n",
       "      <td>16033.354488</td>\n",
       "      <td>16033.354488</td>\n",
       "    </tr>\n",
       "    <tr>\n",
       "      <th>888</th>\n",
       "      <td>JaMychal Green</td>\n",
       "      <td>2015</td>\n",
       "      <td>134295.0</td>\n",
       "      <td>1.507047e+05</td>\n",
       "      <td>-16409.737765</td>\n",
       "      <td>16409.737765</td>\n",
       "    </tr>\n",
       "    <tr>\n",
       "      <th>2634</th>\n",
       "      <td>Tyrone Wallace</td>\n",
       "      <td>2019</td>\n",
       "      <td>1349383.0</td>\n",
       "      <td>1.332336e+06</td>\n",
       "      <td>17046.930705</td>\n",
       "      <td>17046.930705</td>\n",
       "    </tr>\n",
       "    <tr>\n",
       "      <th>187</th>\n",
       "      <td>Amir Johnson</td>\n",
       "      <td>2013</td>\n",
       "      <td>6050000.0</td>\n",
       "      <td>6.032396e+06</td>\n",
       "      <td>17604.136176</td>\n",
       "      <td>17604.136176</td>\n",
       "    </tr>\n",
       "    <tr>\n",
       "      <th>1943</th>\n",
       "      <td>Dwayne Bacon</td>\n",
       "      <td>2018</td>\n",
       "      <td>1378242.0</td>\n",
       "      <td>1.360573e+06</td>\n",
       "      <td>17668.623694</td>\n",
       "      <td>17668.623694</td>\n",
       "    </tr>\n",
       "  </tbody>\n",
       "</table>\n",
       "</div>"
      ],
      "text/plain": [
       "                Player  Year      SALARY     Predicted  sal_difference  \\\n",
       "1460        Mike Scott  2016   3333333.0  3.333327e+06        5.752103   \n",
       "1964  Bojan Bogdanovic  2018  10500000.0  1.050011e+07     -111.795047   \n",
       "1095     Isaiah Thomas  2015   7238606.0  7.239455e+06     -848.825797   \n",
       "45       Trevor Booker  2013   2350820.0  2.357069e+06    -6249.084126   \n",
       "730         D.J. White  2014    104028.0  9.683005e+04     7197.946700   \n",
       "1902       Okaro White  2017    210995.0  2.186001e+05    -7605.078494   \n",
       "1134     Dorell Wright  2015   3150000.0  3.158408e+06    -8408.149506   \n",
       "701    Mirza Teletovic  2014   3229050.0  3.220518e+06     8531.986317   \n",
       "3         Josh Akognon  2013    473604.0  4.650330e+05     8571.005623   \n",
       "2267        Nick Young  2018   5192000.0  5.201258e+06    -9257.661033   \n",
       "470       Luigi Datome  2014   1750000.0  1.761863e+06   -11863.211950   \n",
       "272     Sasha Pavlovic  2013   1232713.0  1.218745e+06    13968.139006   \n",
       "777      Kent Bazemore  2015   2000000.0  1.985635e+06    14364.796660   \n",
       "1805     Jahlil Okafor  2017   4788840.0  4.774082e+06    14758.240669   \n",
       "611       Ray McCallum  2014    524616.0  5.398095e+05   -15193.488478   \n",
       "1775     Jordan Mickey  2017   1223653.0  1.207620e+06    16033.354488   \n",
       "888     JaMychal Green  2015    134295.0  1.507047e+05   -16409.737765   \n",
       "2634    Tyrone Wallace  2019   1349383.0  1.332336e+06    17046.930705   \n",
       "187       Amir Johnson  2013   6050000.0  6.032396e+06    17604.136176   \n",
       "1943      Dwayne Bacon  2018   1378242.0  1.360573e+06    17668.623694   \n",
       "\n",
       "          abs_diff  \n",
       "1460      5.752103  \n",
       "1964    111.795047  \n",
       "1095    848.825797  \n",
       "45     6249.084126  \n",
       "730    7197.946700  \n",
       "1902   7605.078494  \n",
       "1134   8408.149506  \n",
       "701    8531.986317  \n",
       "3      8571.005623  \n",
       "2267   9257.661033  \n",
       "470   11863.211950  \n",
       "272   13968.139006  \n",
       "777   14364.796660  \n",
       "1805  14758.240669  \n",
       "611   15193.488478  \n",
       "1775  16033.354488  \n",
       "888   16409.737765  \n",
       "2634  17046.930705  \n",
       "187   17604.136176  \n",
       "1943  17668.623694  "
      ]
     },
     "execution_count": 69,
     "metadata": {},
     "output_type": "execute_result"
    }
   ],
   "source": [
    "pred_df.head(20)"
   ]
  },
  {
   "cell_type": "markdown",
   "metadata": {},
   "source": [
    "#### 這邊為薪水被高估的前20名球員"
   ]
  },
  {
   "cell_type": "code",
   "execution_count": 70,
   "metadata": {},
   "outputs": [
    {
     "data": {
      "text/html": [
       "<div>\n",
       "<style scoped>\n",
       "    .dataframe tbody tr th:only-of-type {\n",
       "        vertical-align: middle;\n",
       "    }\n",
       "\n",
       "    .dataframe tbody tr th {\n",
       "        vertical-align: top;\n",
       "    }\n",
       "\n",
       "    .dataframe thead th {\n",
       "        text-align: right;\n",
       "    }\n",
       "</style>\n",
       "<table border=\"1\" class=\"dataframe\">\n",
       "  <thead>\n",
       "    <tr style=\"text-align: right;\">\n",
       "      <th></th>\n",
       "      <th>Player</th>\n",
       "      <th>Year</th>\n",
       "      <th>SALARY</th>\n",
       "      <th>Predicted</th>\n",
       "      <th>sal_difference</th>\n",
       "      <th>abs_diff</th>\n",
       "    </tr>\n",
       "  </thead>\n",
       "  <tbody>\n",
       "    <tr>\n",
       "      <th>2524</th>\n",
       "      <td>Paul Millsap</td>\n",
       "      <td>2019</td>\n",
       "      <td>29230769.0</td>\n",
       "      <td>1.450175e+07</td>\n",
       "      <td>1.472902e+07</td>\n",
       "      <td>1.472902e+07</td>\n",
       "    </tr>\n",
       "    <tr>\n",
       "      <th>2637</th>\n",
       "      <td>Russell Westbrook</td>\n",
       "      <td>2019</td>\n",
       "      <td>35654150.0</td>\n",
       "      <td>2.080073e+07</td>\n",
       "      <td>1.485342e+07</td>\n",
       "      <td>1.485342e+07</td>\n",
       "    </tr>\n",
       "    <tr>\n",
       "      <th>695</th>\n",
       "      <td>Amar'e Stoudemire</td>\n",
       "      <td>2014</td>\n",
       "      <td>21679893.0</td>\n",
       "      <td>6.396745e+06</td>\n",
       "      <td>1.528315e+07</td>\n",
       "      <td>1.528315e+07</td>\n",
       "    </tr>\n",
       "    <tr>\n",
       "      <th>1605</th>\n",
       "      <td>Allen Crabbe</td>\n",
       "      <td>2017</td>\n",
       "      <td>18500000.0</td>\n",
       "      <td>3.080353e+06</td>\n",
       "      <td>1.541965e+07</td>\n",
       "      <td>1.541965e+07</td>\n",
       "    </tr>\n",
       "    <tr>\n",
       "      <th>2129</th>\n",
       "      <td>Kyle Lowry</td>\n",
       "      <td>2018</td>\n",
       "      <td>31200000.0</td>\n",
       "      <td>1.566782e+07</td>\n",
       "      <td>1.553218e+07</td>\n",
       "      <td>1.553218e+07</td>\n",
       "    </tr>\n",
       "    <tr>\n",
       "      <th>2641</th>\n",
       "      <td>Andrew Wiggins</td>\n",
       "      <td>2019</td>\n",
       "      <td>25467250.0</td>\n",
       "      <td>9.658776e+06</td>\n",
       "      <td>1.580847e+07</td>\n",
       "      <td>1.580847e+07</td>\n",
       "    </tr>\n",
       "    <tr>\n",
       "      <th>1811</th>\n",
       "      <td>Chandler Parsons</td>\n",
       "      <td>2017</td>\n",
       "      <td>22116750.0</td>\n",
       "      <td>5.858913e+06</td>\n",
       "      <td>1.625784e+07</td>\n",
       "      <td>1.625784e+07</td>\n",
       "    </tr>\n",
       "    <tr>\n",
       "      <th>2497</th>\n",
       "      <td>Kyle Lowry</td>\n",
       "      <td>2019</td>\n",
       "      <td>31200000.0</td>\n",
       "      <td>1.471684e+07</td>\n",
       "      <td>1.648316e+07</td>\n",
       "      <td>1.648316e+07</td>\n",
       "    </tr>\n",
       "    <tr>\n",
       "      <th>2054</th>\n",
       "      <td>Blake Griffin</td>\n",
       "      <td>2018</td>\n",
       "      <td>32088932.0</td>\n",
       "      <td>1.529025e+07</td>\n",
       "      <td>1.679868e+07</td>\n",
       "      <td>1.679868e+07</td>\n",
       "    </tr>\n",
       "    <tr>\n",
       "      <th>2360</th>\n",
       "      <td>Stephen Curry</td>\n",
       "      <td>2019</td>\n",
       "      <td>37457154.0</td>\n",
       "      <td>2.065751e+07</td>\n",
       "      <td>1.679964e+07</td>\n",
       "      <td>1.679964e+07</td>\n",
       "    </tr>\n",
       "    <tr>\n",
       "      <th>2282</th>\n",
       "      <td>Ryan Anderson</td>\n",
       "      <td>2019</td>\n",
       "      <td>20421546.0</td>\n",
       "      <td>3.618257e+06</td>\n",
       "      <td>1.680329e+07</td>\n",
       "      <td>1.680329e+07</td>\n",
       "    </tr>\n",
       "    <tr>\n",
       "      <th>2559</th>\n",
       "      <td>Chandler Parsons</td>\n",
       "      <td>2019</td>\n",
       "      <td>24107258.0</td>\n",
       "      <td>6.839036e+06</td>\n",
       "      <td>1.726822e+07</td>\n",
       "      <td>1.726822e+07</td>\n",
       "    </tr>\n",
       "    <tr>\n",
       "      <th>2180</th>\n",
       "      <td>Chandler Parsons</td>\n",
       "      <td>2018</td>\n",
       "      <td>23112004.0</td>\n",
       "      <td>5.425457e+06</td>\n",
       "      <td>1.768655e+07</td>\n",
       "      <td>1.768655e+07</td>\n",
       "    </tr>\n",
       "    <tr>\n",
       "      <th>2003</th>\n",
       "      <td>Stephen Curry</td>\n",
       "      <td>2018</td>\n",
       "      <td>37457154.0</td>\n",
       "      <td>1.947824e+07</td>\n",
       "      <td>1.797891e+07</td>\n",
       "      <td>1.797891e+07</td>\n",
       "    </tr>\n",
       "    <tr>\n",
       "      <th>1995</th>\n",
       "      <td>Mike Conley</td>\n",
       "      <td>2018</td>\n",
       "      <td>28530608.0</td>\n",
       "      <td>1.037178e+07</td>\n",
       "      <td>1.815883e+07</td>\n",
       "      <td>1.815883e+07</td>\n",
       "    </tr>\n",
       "    <tr>\n",
       "      <th>431</th>\n",
       "      <td>Kobe Bryant</td>\n",
       "      <td>2014</td>\n",
       "      <td>30453805.0</td>\n",
       "      <td>1.126527e+07</td>\n",
       "      <td>1.918854e+07</td>\n",
       "      <td>1.918854e+07</td>\n",
       "    </tr>\n",
       "    <tr>\n",
       "      <th>2151</th>\n",
       "      <td>Paul Millsap</td>\n",
       "      <td>2018</td>\n",
       "      <td>31269231.0</td>\n",
       "      <td>1.160664e+07</td>\n",
       "      <td>1.966259e+07</td>\n",
       "      <td>1.966259e+07</td>\n",
       "    </tr>\n",
       "    <tr>\n",
       "      <th>2427</th>\n",
       "      <td>Gordon Hayward</td>\n",
       "      <td>2019</td>\n",
       "      <td>31214295.0</td>\n",
       "      <td>9.780935e+06</td>\n",
       "      <td>2.143336e+07</td>\n",
       "      <td>2.143336e+07</td>\n",
       "    </tr>\n",
       "    <tr>\n",
       "      <th>2562</th>\n",
       "      <td>Chris Paul</td>\n",
       "      <td>2019</td>\n",
       "      <td>35654150.0</td>\n",
       "      <td>1.379863e+07</td>\n",
       "      <td>2.185552e+07</td>\n",
       "      <td>2.185552e+07</td>\n",
       "    </tr>\n",
       "    <tr>\n",
       "      <th>2064</th>\n",
       "      <td>Gordon Hayward</td>\n",
       "      <td>2018</td>\n",
       "      <td>29727900.0</td>\n",
       "      <td>1.443040e+06</td>\n",
       "      <td>2.828486e+07</td>\n",
       "      <td>2.828486e+07</td>\n",
       "    </tr>\n",
       "  </tbody>\n",
       "</table>\n",
       "</div>"
      ],
      "text/plain": [
       "                 Player  Year      SALARY     Predicted  sal_difference  \\\n",
       "2524       Paul Millsap  2019  29230769.0  1.450175e+07    1.472902e+07   \n",
       "2637  Russell Westbrook  2019  35654150.0  2.080073e+07    1.485342e+07   \n",
       "695   Amar'e Stoudemire  2014  21679893.0  6.396745e+06    1.528315e+07   \n",
       "1605       Allen Crabbe  2017  18500000.0  3.080353e+06    1.541965e+07   \n",
       "2129         Kyle Lowry  2018  31200000.0  1.566782e+07    1.553218e+07   \n",
       "2641     Andrew Wiggins  2019  25467250.0  9.658776e+06    1.580847e+07   \n",
       "1811   Chandler Parsons  2017  22116750.0  5.858913e+06    1.625784e+07   \n",
       "2497         Kyle Lowry  2019  31200000.0  1.471684e+07    1.648316e+07   \n",
       "2054      Blake Griffin  2018  32088932.0  1.529025e+07    1.679868e+07   \n",
       "2360      Stephen Curry  2019  37457154.0  2.065751e+07    1.679964e+07   \n",
       "2282      Ryan Anderson  2019  20421546.0  3.618257e+06    1.680329e+07   \n",
       "2559   Chandler Parsons  2019  24107258.0  6.839036e+06    1.726822e+07   \n",
       "2180   Chandler Parsons  2018  23112004.0  5.425457e+06    1.768655e+07   \n",
       "2003      Stephen Curry  2018  37457154.0  1.947824e+07    1.797891e+07   \n",
       "1995        Mike Conley  2018  28530608.0  1.037178e+07    1.815883e+07   \n",
       "431         Kobe Bryant  2014  30453805.0  1.126527e+07    1.918854e+07   \n",
       "2151       Paul Millsap  2018  31269231.0  1.160664e+07    1.966259e+07   \n",
       "2427     Gordon Hayward  2019  31214295.0  9.780935e+06    2.143336e+07   \n",
       "2562         Chris Paul  2019  35654150.0  1.379863e+07    2.185552e+07   \n",
       "2064     Gordon Hayward  2018  29727900.0  1.443040e+06    2.828486e+07   \n",
       "\n",
       "          abs_diff  \n",
       "2524  1.472902e+07  \n",
       "2637  1.485342e+07  \n",
       "695   1.528315e+07  \n",
       "1605  1.541965e+07  \n",
       "2129  1.553218e+07  \n",
       "2641  1.580847e+07  \n",
       "1811  1.625784e+07  \n",
       "2497  1.648316e+07  \n",
       "2054  1.679868e+07  \n",
       "2360  1.679964e+07  \n",
       "2282  1.680329e+07  \n",
       "2559  1.726822e+07  \n",
       "2180  1.768655e+07  \n",
       "2003  1.797891e+07  \n",
       "1995  1.815883e+07  \n",
       "431   1.918854e+07  \n",
       "2151  1.966259e+07  \n",
       "2427  2.143336e+07  \n",
       "2562  2.185552e+07  \n",
       "2064  2.828486e+07  "
      ]
     },
     "execution_count": 70,
     "metadata": {},
     "output_type": "execute_result"
    }
   ],
   "source": [
    "pred_df.tail(20)"
   ]
  },
  {
   "cell_type": "markdown",
   "metadata": {},
   "source": [
    "Model is performing most accurately on the players who are new to the NBA.\n",
    "\n",
    "Model is least accurate at predicting salary for players who have been in the NBA for many years and can be considered \"super stars\""
   ]
  },
  {
   "cell_type": "markdown",
   "metadata": {},
   "source": [
    "#### Plotting actual salary vs. predicted salary using training and testing data"
   ]
  },
  {
   "cell_type": "code",
   "execution_count": 71,
   "metadata": {},
   "outputs": [
    {
     "data": {
      "text/plain": [
       "<seaborn.axisgrid.JointGrid at 0x1a1e278358>"
      ]
     },
     "execution_count": 71,
     "metadata": {},
     "output_type": "execute_result"
    },
    {
     "data": {
      "image/png": "[encoded data removed]",
      "text/plain": [
       "<Figure size 432x432 with 3 Axes>"
      ]
     },
     "metadata": {
      "needs_background": "light"
     },
     "output_type": "display_data"
    }
   ],
   "source": [
    "salary_pred = ridge.predict(Xtrain)\n",
    "sns.jointplot(ytrain, salary_pred)"
   ]
  },
  {
   "cell_type": "code",
   "execution_count": 72,
   "metadata": {},
   "outputs": [
    {
     "data": {
      "text/plain": [
       "<seaborn.axisgrid.JointGrid at 0x1a1ff3b978>"
      ]
     },
     "execution_count": 72,
     "metadata": {},
     "output_type": "execute_result"
    },
    {
     "data": {
      "image/png": "[encoded data removed]",
      "text/plain": [
       "<Figure size 432x432 with 3 Axes>"
      ]
     },
     "metadata": {
      "needs_background": "light"
     },
     "output_type": "display_data"
    }
   ],
   "source": [
    "salary_pred1 = ridge.predict(Xtest)\n",
    "sns.jointplot(ytest, salary_pred1)"
   ]
  },
  {
   "cell_type": "markdown",
   "metadata": {},
   "source": [
    "### 現在我們就可以將一個球員的球場數據輸入到模型裡面 讓模型根據他的表現來預測薪水了"
   ]
  },
  {
   "cell_type": "code",
   "execution_count": 73,
   "metadata": {},
   "outputs": [
    {
     "data": {
      "text/plain": [
       "Index(['Age', 'G', 'GS', 'MP', 'FG', 'FGA', 'FG%', '3P', '3PA', '3P%', '2P',\n",
       "       '2PA', '2P%', 'FT', 'FTA', 'FT%', 'ORB', 'DRB', 'TRB', 'AST', 'STL',\n",
       "       'BLK', 'TOV', 'PF', 'PTS', 'PER', 'TS%', '3PAr', 'FTr', 'ORB%', 'DRB%',\n",
       "       'TRB%', 'AST%', 'STL%', 'BLK%', 'TOV%', 'USG%', 'OWS', 'DWS', 'WS',\n",
       "       'WS/48', 'OBPM', 'DBPM', 'BPM', 'VORP'],\n",
       "      dtype='object')"
      ]
     },
     "execution_count": 73,
     "metadata": {},
     "output_type": "execute_result"
    }
   ],
   "source": [
    "X.columns"
   ]
  },
  {
   "cell_type": "markdown",
   "metadata": {},
   "source": [
    "#### 作法如下\n",
    "my_player = [\"輸入想要被預測球員的數據表現\"]\n",
    "\n",
    "my_player = np.array([my_player])\n",
    "\n",
    "my_player = ss.fit_transform(my_player)\n",
    "\n",
    "ridge.predict(my_player)\n"
   ]
  },
  {
   "cell_type": "code",
   "execution_count": 84,
   "metadata": {},
   "outputs": [],
   "source": [
    "player_value= [ 26.0,  3.0, 0.0, 9.0, 8.0,\n",
    "       16.0, 0.5, 4.0, 8.0, 0.5, 4.0, 8.0, 0.5, 0.0, 0.0, 0.0, 0.0, 4.0,\n",
    "       4.0, 4.0, 0.0, 0.0, 0.0, 12.0, 20.0,  15.3, 0.625, 0.5, 0.0,\n",
    "       0.0, 12.1, 6.2, 19.4, 0.0, 0.0, 0.0, 20.3, 0.0, 0.0, 0.0, 0.196,\n",
    "       4.7, -4.9, -0.2, 0.0, ]\n",
    " "
   ]
  },
  {
   "cell_type": "code",
   "execution_count": 85,
   "metadata": {},
   "outputs": [
    {
     "data": {
      "text/plain": [
       "array([5786213.98420902])"
      ]
     },
     "execution_count": 85,
     "metadata": {},
     "output_type": "execute_result"
    }
   ],
   "source": [
    "my_player = player_value #[\"輸入想要被預測球員的數據表現\"]\n",
    "\n",
    "my_player = np.array([my_player])\n",
    "\n",
    "my_player = ss.fit_transform(my_player)\n",
    "\n",
    "ridge.predict(my_player)"
   ]
  },
  {
   "cell_type": "markdown",
   "metadata": {},
   "source": [
    "5786213.98420902即是透過模型預測出來球員的薪水"
   ]
  },
  {
   "cell_type": "code",
   "execution_count": 81,
   "metadata": {
    "scrolled": true
   },
   "outputs": [
    {
     "data": {
      "text/plain": [
       "(array([ 10., 215., 735., 702., 505., 285., 134.,  48.,  18.,   3.]),\n",
       " array([-5776748.41422122, -2669440.80229329,   437866.80963464,\n",
       "         3545174.42156257,  6652482.0334905 ,  9759789.64541843,\n",
       "        12867097.25734637, 15974404.8692743 , 19081712.48120223,\n",
       "        22189020.09313016, 25296327.70505809]),\n",
       " <a list of 10 Patch objects>)"
      ]
     },
     "execution_count": 81,
     "metadata": {},
     "output_type": "execute_result"
    },
    {
     "data": {
      "image/png": "[encoded data removed]",
      "text/plain": [
       "<Figure size 432x288 with 1 Axes>"
      ]
     },
     "metadata": {
      "needs_background": "light"
     },
     "output_type": "display_data"
    }
   ],
   "source": [
    "plt.hist(pred_df[\"Predicted\"])"
   ]
  },
  {
   "cell_type": "markdown",
   "metadata": {},
   "source": [
    "被預測薪水的分佈圖"
   ]
  }
 ],
 "metadata": {
  "kernelspec": {
   "display_name": "Python 3",
   "language": "python",
   "name": "python3"
  },
  "language_info": {
   "codemirror_mode": {
    "name": "ipython",
    "version": 3
   },
   "file_extension": ".py",
   "mimetype": "text/x-python",
   "name": "python",
   "nbconvert_exporter": "python",
   "pygments_lexer": "ipython3",
   "version": "3.7.3"
  }
 },
 "nbformat": 4,
 "nbformat_minor": 2
}
