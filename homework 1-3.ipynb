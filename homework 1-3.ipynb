{
 "cells": [
  {
   "cell_type": "markdown",
   "metadata": {},
   "source": [
    "# 91APP EDA 資料探索式分析 HW1~3"
   ]
  },
  {
   "cell_type": "markdown",
   "metadata": {},
   "source": [
    "###  作業目標 \n",
    "\n",
    "探索式資料分析 (Exploratory Data Analysis) 的主要精神是運用視覺化、基本的統計等工具，反覆的探索資料特性，獲取資料所包含的資訊、結構和特點，因為在進行複雜或嚴謹的分析之前，必須要對資料有更多認識，才能訂定對的資料分析方向。\n",
    "\n",
    "EDA:首先設計問題 問自己有沒有辦法答\n",
    "再做各種資料視覺化 找出各資料之間關聯\n",
    "認識資料:整理資料成 t table\n",
    "視覺化:畫圖 視覺化呈現\n",
    "最後根據視覺化來 連結問題 想出可能的解決方案  "
   ]
  },
  {
   "cell_type": "code",
   "execution_count": 1,
   "metadata": {},
   "outputs": [],
   "source": [
    "import numpy as np\n",
    "import pandas as pd\n",
    "import matplotlib.pyplot as plt\n",
    "import seaborn as sns\n",
    "#在資料夾裡面放入微軟正黑體 讓視覺化結果可以顯示中文\n",
    "import matplotlib.font_manager as mfm\n",
    "font_path = \"./simhei.ttf\"\n",
    "prop = mfm.FontProperties(fname = font_path)\n",
    "from datetime import datetime"
   ]
  },
  {
   "cell_type": "markdown",
   "metadata": {},
   "source": [
    "#### 目標:先認識資料 並視覺化 以找到任何可以改善或是切入的面向\n",
    "#### 設計EDA 問題&畫圖"
   ]
  },
  {
   "cell_type": "code",
   "execution_count": 2,
   "metadata": {
    "scrolled": true
   },
   "outputs": [
    {
     "name": "stderr",
     "output_type": "stream",
     "text": [
      "C:\\Users\\karta\\Anaconda3\\lib\\site-packages\\IPython\\core\\interactiveshell.py:3020: DtypeWarning: Columns (8) have mixed types. Specify dtype option on import or set low_memory=False.\n",
      "  interactivity=interactivity, compiler=compiler, result=result)\n"
     ]
    }
   ],
   "source": [
    "#讀入資料 認識資料\n",
    "Member=pd.read_csv(\"Member.csv\")"
   ]
  },
  {
   "cell_type": "code",
   "execution_count": 3,
   "metadata": {},
   "outputs": [
    {
     "name": "stderr",
     "output_type": "stream",
     "text": [
      "C:\\Users\\karta\\Anaconda3\\lib\\site-packages\\IPython\\core\\interactiveshell.py:3020: DtypeWarning: Columns (23) have mixed types. Specify dtype option on import or set low_memory=False.\n",
      "  interactivity=interactivity, compiler=compiler, result=result)\n"
     ]
    }
   ],
   "source": [
    "Orders=pd.read_csv(\"Orders.csv\")"
   ]
  },
  {
   "cell_type": "code",
   "execution_count": 4,
   "metadata": {},
   "outputs": [],
   "source": [
    "ECoupon=pd.read_csv(\"ECoupon.csv\")"
   ]
  },
  {
   "cell_type": "code",
   "execution_count": 5,
   "metadata": {},
   "outputs": [],
   "source": [
    "PromotionConditions=pd.read_csv(\"PromotionConditions.csv\")"
   ]
  },
  {
   "cell_type": "code",
   "execution_count": 6,
   "metadata": {},
   "outputs": [],
   "source": [
    "PromotionOrders=pd.read_csv(\"PromotionOrders.csv\")"
   ]
  },
  {
   "cell_type": "code",
   "execution_count": 7,
   "metadata": {},
   "outputs": [],
   "source": [
    "Member['GenderTypeDef']=Member['GenderTypeDef'].astype(\"category\")\n",
    "Member['RegisterSourceTypeDef']=Member['RegisterSourceTypeDef'].astype(\"category\")\n",
    "Member=Member.drop(['IsInBlackList'],axis=\"columns\")"
   ]
  },
  {
   "cell_type": "code",
   "execution_count": 8,
   "metadata": {},
   "outputs": [
    {
     "name": "stdout",
     "output_type": "stream",
     "text": [
      "   MemberId Birthday GenderTypeDef RegisterSourceTypeDef  \\\n",
      "0   1587633      NaN           NaN                   Web   \n",
      "1   1587634      NaN           NaN                   Web   \n",
      "2   1587658      NaN           NaN                   Web   \n",
      "3   1587809      NaN           NaN                   Web   \n",
      "4   1587830      NaN           NaN                   Web   \n",
      "\n",
      "          RegisterDateTime MinOrderDate  OpenCardPresent  \\\n",
      "0  2016-08-05 19:45:59.670          NaN                0   \n",
      "1  2016-10-27 21:25:22.907          NaN                0   \n",
      "2  2015-08-11 19:11:09.030          NaN                0   \n",
      "3  2015-08-11 19:53:32.397          NaN                0   \n",
      "4  2017-06-03 17:33:03.987          NaN                0   \n",
      "\n",
      "   LastBirthdayPresentYear  \n",
      "0                        0  \n",
      "1                        0  \n",
      "2                        0  \n",
      "3                        0  \n",
      "4                        0  \n",
      "Index(['MemberId', 'Birthday', 'GenderTypeDef', 'RegisterSourceTypeDef',\n",
      "       'RegisterDateTime', 'MinOrderDate', 'OpenCardPresent',\n",
      "       'LastBirthdayPresentYear'],\n",
      "      dtype='object')\n",
      "(859146, 8)\n",
      "<class 'pandas.core.frame.DataFrame'>\n",
      "RangeIndex: 859146 entries, 0 to 859145\n",
      "Data columns (total 8 columns):\n",
      "MemberId                   859146 non-null int64\n",
      "Birthday                   237275 non-null object\n",
      "GenderTypeDef              237276 non-null category\n",
      "RegisterSourceTypeDef      829143 non-null category\n",
      "RegisterDateTime           859146 non-null object\n",
      "MinOrderDate               562300 non-null object\n",
      "OpenCardPresent            859146 non-null int64\n",
      "LastBirthdayPresentYear    859146 non-null int64\n",
      "dtypes: category(2), int64(3), object(3)\n",
      "memory usage: 41.0+ MB\n",
      "None\n"
     ]
    }
   ],
   "source": [
    "print(Member.head())\n",
    "print(Member.columns)\n",
    "print(Member.shape)\n",
    "print(Member.info())\n"
   ]
  },
  {
   "cell_type": "code",
   "execution_count": 9,
   "metadata": {},
   "outputs": [],
   "source": [
    "OrderDropList=['OrderGroupCode','SalePageId','IsMajor','IsGift','IsSalePageGift','ZipCode','StoreName','StoreId']\n",
    "Orders=Orders.drop(OrderDropList,axis=\"columns\")\n"
   ]
  },
  {
   "cell_type": "code",
   "execution_count": 10,
   "metadata": {},
   "outputs": [],
   "source": [
    "Orders['TrackSourceTypeDef']=Orders['TrackSourceTypeDef'].astype(\"category\")\n",
    "Orders['TrackDeviceTypeDef']=Orders['TrackDeviceTypeDef'].astype(\"category\")\n",
    "Orders['PayProfileTypeDef']=Orders['PayProfileTypeDef'].astype(\"category\")\n",
    "Orders['City']=Orders['City'].astype(\"category\")\n",
    "Orders['District']=Orders['District'].astype(\"category\")\n",
    "Orders['DeliverTypeDef']=Orders['DeliverTypeDef'].astype(\"category\")\n",
    "Orders['StatusDef']=Orders['StatusDef'].astype(\"category\")"
   ]
  },
  {
   "cell_type": "code",
   "execution_count": null,
   "metadata": {},
   "outputs": [],
   "source": []
  },
  {
   "cell_type": "code",
   "execution_count": 11,
   "metadata": {},
   "outputs": [
    {
     "name": "stdout",
     "output_type": "stream",
     "text": [
      "     DateId  MemberId TrackSourceTypeDef TrackDeviceTypeDef PayProfileTypeDef  \\\n",
      "0  20150703   1388133                Web             Mobile       SevenEleven   \n",
      "1  20150703   1388133                Web             Mobile       SevenEleven   \n",
      "2  20150703   1388133                Web             Mobile       SevenEleven   \n",
      "3  20150703   1388133                Web             Mobile       SevenEleven   \n",
      "4  20150703    365787                Web             Mobile       SevenEleven   \n",
      "\n",
      "   SalesOrderSlaveId  Quantity  UnitPrice  PromotionDiscount  ECouponId  \\\n",
      "0            4457777         1      350.0                0.0          0   \n",
      "1            4457778         1      199.0                0.0          0   \n",
      "2            4457779         1      199.0                0.0          0   \n",
      "3            4457780         1      225.0                0.0          0   \n",
      "4            4457791         1      100.0                0.0          0   \n",
      "\n",
      "   ECouponDiscount  SalesOrderSlaveTotalPayment  SalesOrderSlaveDateTime  \\\n",
      "0              0.0                        350.0  2015-07-03 07:30:02.007   \n",
      "1              0.0                        199.0  2015-07-03 07:30:02.023   \n",
      "2              0.0                        199.0  2015-07-03 07:30:02.040   \n",
      "3              0.0                        225.0  2015-07-03 07:30:02.057   \n",
      "4              0.0                        100.0  2015-07-03 07:33:01.600   \n",
      "\n",
      "   SalesOrderReceiverId City District DeliverTypeDef StatusDef  \\\n",
      "0               1480890  嘉義縣      水上鄉    SevenEleven    Finish   \n",
      "1               1480890  嘉義縣      水上鄉    SevenEleven    Finish   \n",
      "2               1480890  嘉義縣      水上鄉    SevenEleven    Finish   \n",
      "3               1480890  嘉義縣      水上鄉    SevenEleven    Finish   \n",
      "4               1480896  桃園市      中壢區    SevenEleven    Finish   \n",
      "\n",
      "   ReturnGoodsDateId CauseDef  \n",
      "0                NaN      NaN  \n",
      "1                NaN      NaN  \n",
      "2                NaN      NaN  \n",
      "3                NaN      NaN  \n",
      "4                NaN      NaN  \n",
      "Index(['DateId', 'MemberId', 'TrackSourceTypeDef', 'TrackDeviceTypeDef',\n",
      "       'PayProfileTypeDef', 'SalesOrderSlaveId', 'Quantity', 'UnitPrice',\n",
      "       'PromotionDiscount', 'ECouponId', 'ECouponDiscount',\n",
      "       'SalesOrderSlaveTotalPayment', 'SalesOrderSlaveDateTime',\n",
      "       'SalesOrderReceiverId', 'City', 'District', 'DeliverTypeDef',\n",
      "       'StatusDef', 'ReturnGoodsDateId', 'CauseDef'],\n",
      "      dtype='object')\n",
      "(5495276, 20)\n",
      "<class 'pandas.core.frame.DataFrame'>\n",
      "RangeIndex: 5495276 entries, 0 to 5495275\n",
      "Data columns (total 20 columns):\n",
      "DateId                         int64\n",
      "MemberId                       int64\n",
      "TrackSourceTypeDef             category\n",
      "TrackDeviceTypeDef             category\n",
      "PayProfileTypeDef              category\n",
      "SalesOrderSlaveId              int64\n",
      "Quantity                       int64\n",
      "UnitPrice                      float64\n",
      "PromotionDiscount              float64\n",
      "ECouponId                      int64\n",
      "ECouponDiscount                float64\n",
      "SalesOrderSlaveTotalPayment    float64\n",
      "SalesOrderSlaveDateTime        object\n",
      "SalesOrderReceiverId           int64\n",
      "City                           category\n",
      "District                       category\n",
      "DeliverTypeDef                 category\n",
      "StatusDef                      category\n",
      "ReturnGoodsDateId              float64\n",
      "CauseDef                       object\n",
      "dtypes: category(7), float64(5), int64(6), object(2)\n",
      "memory usage: 587.0+ MB\n",
      "None\n"
     ]
    }
   ],
   "source": [
    "print(Orders.head())\n",
    "print(Orders.columns)\n",
    "print(Orders.shape)\n",
    "print(Orders.info())\n"
   ]
  },
  {
   "cell_type": "code",
   "execution_count": 12,
   "metadata": {},
   "outputs": [],
   "source": [
    "ECoupon=ECoupon.drop(['ECouponUsingStartDateTime','ECouponUsingEndDateTime'],axis='columns')\n",
    "ECoupon['ECouponTypeDef']=ECoupon['ECouponTypeDef'].astype('category')"
   ]
  },
  {
   "cell_type": "code",
   "execution_count": 13,
   "metadata": {},
   "outputs": [
    {
     "name": "stdout",
     "output_type": "stream",
     "text": [
      "   ECouponId ECouponTypeDef ECouponStartDateTime   ECouponEndDateTime  \\\n",
      "0       3046        DrawOut  2015-05-16 00:00:00  2015-05-17 23:59:00   \n",
      "1       3086       OpenCard  2015-05-20 15:00:00  2015-06-03 23:59:00   \n",
      "2       3111        DrawOut  2015-05-23 00:00:00  2015-05-24 23:59:00   \n",
      "3       3225        DrawOut  2015-05-30 00:00:00  2015-05-31 23:59:00   \n",
      "4       3280       OpenCard  2015-06-04 00:00:00  2015-06-17 00:00:00   \n",
      "\n",
      "   ECouponDiscountPrice  ECouponMaxDiscountLimit  \n",
      "0                  50.0                      0.3  \n",
      "1                  50.0                      0.3  \n",
      "2                  50.0                      0.3  \n",
      "3                  50.0                      0.3  \n",
      "4                  50.0                      0.3  \n",
      "Index(['ECouponId', 'ECouponTypeDef', 'ECouponStartDateTime',\n",
      "       'ECouponEndDateTime', 'ECouponDiscountPrice',\n",
      "       'ECouponMaxDiscountLimit'],\n",
      "      dtype='object')\n",
      "(261, 6)\n",
      "<class 'pandas.core.frame.DataFrame'>\n",
      "RangeIndex: 261 entries, 0 to 260\n",
      "Data columns (total 6 columns):\n",
      "ECouponId                  261 non-null int64\n",
      "ECouponTypeDef             261 non-null category\n",
      "ECouponStartDateTime       261 non-null object\n",
      "ECouponEndDateTime         261 non-null object\n",
      "ECouponDiscountPrice       261 non-null float64\n",
      "ECouponMaxDiscountLimit    261 non-null float64\n",
      "dtypes: category(1), float64(2), int64(1), object(2)\n",
      "memory usage: 10.7+ KB\n",
      "None\n"
     ]
    }
   ],
   "source": [
    "print(ECoupon.head())\n",
    "print(ECoupon.columns)\n",
    "print(ECoupon.shape)\n",
    "print(ECoupon.info())\n"
   ]
  },
  {
   "cell_type": "code",
   "execution_count": 14,
   "metadata": {},
   "outputs": [],
   "source": [
    "PromotionConditions['PromotionValidFlag']=PromotionConditions['PromotionValidFlag'].astype('category')\n",
    "PromotionConditions['DiscountType']=PromotionConditions['DiscountType'].astype('category')"
   ]
  },
  {
   "cell_type": "code",
   "execution_count": 15,
   "metadata": {},
   "outputs": [
    {
     "name": "stdout",
     "output_type": "stream",
     "text": [
      "   PromotionId   PromotionStartDateTime     PromotionEndDateTime  \\\n",
      "0            3  2015-06-02 16:00:00.000  2015-07-10 13:00:00.000   \n",
      "1            4  2015-06-02 17:00:00.000  2015-07-30 11:00:00.000   \n",
      "2            5  2015-06-02 17:00:00.000  2015-07-10 13:00:00.000   \n",
      "3            6  2015-06-09 10:30:00.000  2015-06-23 09:59:00.000   \n",
      "4            7  2015-07-09 16:00:00.000  2015-08-31 11:00:00.000   \n",
      "\n",
      "  PromotionValidFlag  PromotionCondition_TotalPrice  \\\n",
      "0               True                            0.0   \n",
      "1               True                            0.0   \n",
      "2               True                            0.0   \n",
      "3               True                         1000.0   \n",
      "4               True                            0.0   \n",
      "\n",
      "   PromotionCondition_DiscountRate  PromotionCondition_TotalQty  \\\n",
      "0                              0.0                            2   \n",
      "1                              0.0                            2   \n",
      "2                              0.0                            2   \n",
      "3                              0.0                            0   \n",
      "4                              0.0                            2   \n",
      "\n",
      "   PromotionCondition_DiscountPrice DiscountType  \n",
      "0                             398.0        任選優惠價  \n",
      "1                             250.0        任選優惠價  \n",
      "2                             299.0        任選優惠價  \n",
      "3                             100.0         滿額折現  \n",
      "4                             299.0        任選優惠價  \n",
      "Index(['PromotionId', 'PromotionStartDateTime', 'PromotionEndDateTime',\n",
      "       'PromotionValidFlag', 'PromotionCondition_TotalPrice',\n",
      "       'PromotionCondition_DiscountRate', 'PromotionCondition_TotalQty',\n",
      "       'PromotionCondition_DiscountPrice', 'DiscountType'],\n",
      "      dtype='object')\n",
      "(214, 9)\n",
      "<class 'pandas.core.frame.DataFrame'>\n",
      "RangeIndex: 214 entries, 0 to 213\n",
      "Data columns (total 9 columns):\n",
      "PromotionId                         214 non-null int64\n",
      "PromotionStartDateTime              214 non-null object\n",
      "PromotionEndDateTime                214 non-null object\n",
      "PromotionValidFlag                  214 non-null category\n",
      "PromotionCondition_TotalPrice       214 non-null float64\n",
      "PromotionCondition_DiscountRate     214 non-null float64\n",
      "PromotionCondition_TotalQty         214 non-null int64\n",
      "PromotionCondition_DiscountPrice    214 non-null float64\n",
      "DiscountType                        214 non-null category\n",
      "dtypes: category(2), float64(3), int64(2), object(2)\n",
      "memory usage: 12.7+ KB\n",
      "None\n"
     ]
    }
   ],
   "source": [
    "print(PromotionConditions.head())\n",
    "print(PromotionConditions.columns)\n",
    "print(PromotionConditions.shape)\n",
    "print(PromotionConditions.info())\n"
   ]
  },
  {
   "cell_type": "code",
   "execution_count": 16,
   "metadata": {},
   "outputs": [],
   "source": [
    "PromotionOrders['DiscountType']=PromotionOrders['DiscountType'].astype('category')"
   ]
  },
  {
   "cell_type": "code",
   "execution_count": 17,
   "metadata": {
    "scrolled": true
   },
   "outputs": [
    {
     "name": "stdout",
     "output_type": "stream",
     "text": [
      "   SalesOrderSlaveId  PromotionId  SalesOrderSlavePromotionDiscount  \\\n",
      "0           40086585        62671                             100.0   \n",
      "1           40088089        62671                             100.0   \n",
      "2           40090756        62671                             100.0   \n",
      "3           40090763        62671                             100.0   \n",
      "4           40091003        62671                             100.0   \n",
      "\n",
      "   SalesOrderSlavePromotionDiscountAllocated  \\\n",
      "0                                      -12.0   \n",
      "1                                      -12.0   \n",
      "2                                      -12.0   \n",
      "3                                      -12.0   \n",
      "4                                      -12.0   \n",
      "\n",
      "   SalesOrderSlavePromotionDiscountAllocatedQty  \\\n",
      "0                                             1   \n",
      "1                                             1   \n",
      "2                                             1   \n",
      "3                                             1   \n",
      "4                                             1   \n",
      "\n",
      "   SalesOrderSlavePromotionDiscountRate DiscountType  \\\n",
      "0                                   0.0         滿額折現   \n",
      "1                                   0.0         滿額折現   \n",
      "2                                   0.0         滿額折現   \n",
      "3                                   0.0         滿額折現   \n",
      "4                                   0.0         滿額折現   \n",
      "\n",
      "   PromotionCondition_DiscountPrice  PromotionCondition_DiscountRate  \\\n",
      "0                             100.0                              0.0   \n",
      "1                             100.0                              0.0   \n",
      "2                             100.0                              0.0   \n",
      "3                             100.0                              0.0   \n",
      "4                             100.0                              0.0   \n",
      "\n",
      "   PromotionCondition_TotalPrice  PromotionCondition_TotalQty  \\\n",
      "0                         1000.0                            0   \n",
      "1                         1000.0                            0   \n",
      "2                         1000.0                            0   \n",
      "3                         1000.0                            0   \n",
      "4                         1000.0                            0   \n",
      "\n",
      "    PromotionStartDateTime     PromotionEndDateTime  \n",
      "0  2017-07-10 11:00:00.000  2017-07-31 10:59:00.000  \n",
      "1  2017-07-10 11:00:00.000  2017-07-31 10:59:00.000  \n",
      "2  2017-07-10 11:00:00.000  2017-07-31 10:59:00.000  \n",
      "3  2017-07-10 11:00:00.000  2017-07-31 10:59:00.000  \n",
      "4  2017-07-10 11:00:00.000  2017-07-31 10:59:00.000  \n",
      "Index(['SalesOrderSlaveId', 'PromotionId', 'SalesOrderSlavePromotionDiscount',\n",
      "       'SalesOrderSlavePromotionDiscountAllocated',\n",
      "       'SalesOrderSlavePromotionDiscountAllocatedQty',\n",
      "       'SalesOrderSlavePromotionDiscountRate', 'DiscountType',\n",
      "       'PromotionCondition_DiscountPrice', 'PromotionCondition_DiscountRate',\n",
      "       'PromotionCondition_TotalPrice', 'PromotionCondition_TotalQty',\n",
      "       'PromotionStartDateTime', 'PromotionEndDateTime'],\n",
      "      dtype='object')\n",
      "(4011064, 13)\n",
      "<class 'pandas.core.frame.DataFrame'>\n",
      "RangeIndex: 4011064 entries, 0 to 4011063\n",
      "Data columns (total 13 columns):\n",
      "SalesOrderSlaveId                               int64\n",
      "PromotionId                                     int64\n",
      "SalesOrderSlavePromotionDiscount                float64\n",
      "SalesOrderSlavePromotionDiscountAllocated       float64\n",
      "SalesOrderSlavePromotionDiscountAllocatedQty    int64\n",
      "SalesOrderSlavePromotionDiscountRate            float64\n",
      "DiscountType                                    category\n",
      "PromotionCondition_DiscountPrice                float64\n",
      "PromotionCondition_DiscountRate                 float64\n",
      "PromotionCondition_TotalPrice                   float64\n",
      "PromotionCondition_TotalQty                     int64\n",
      "PromotionStartDateTime                          object\n",
      "PromotionEndDateTime                            object\n",
      "dtypes: category(1), float64(6), int64(4), object(2)\n",
      "memory usage: 371.0+ MB\n",
      "None\n"
     ]
    }
   ],
   "source": [
    "print(PromotionOrders.head())\n",
    "print(PromotionOrders.columns)\n",
    "print(PromotionOrders.shape)\n",
    "print(PromotionOrders.info())\n"
   ]
  },
  {
   "cell_type": "code",
   "execution_count": null,
   "metadata": {},
   "outputs": [],
   "source": []
  },
  {
   "cell_type": "markdown",
   "metadata": {},
   "source": [
    "### 1. 一次購物行為消費者買了多少項目,消費金額總額或是平均為多少"
   ]
  },
  {
   "cell_type": "code",
   "execution_count": 18,
   "metadata": {},
   "outputs": [],
   "source": [
    "OrderOneTime=Orders.groupby(\"SalesOrderReceiverId\")\n",
    "OrderOneTimeCount=OrderOneTime['Quantity'].count()\n",
    "OrderOneTimeSum=OrderOneTime['SalesOrderSlaveTotalPayment'].sum()\n",
    "OrderOneTimeMean=OrderOneTime['SalesOrderSlaveTotalPayment'].mean()\n"
   ]
  },
  {
   "cell_type": "code",
   "execution_count": 19,
   "metadata": {
    "scrolled": true
   },
   "outputs": [
    {
     "data": {
      "image/png": "[encoded data removed]",
      "text/plain": [
       "<Figure size 432x288 with 1 Axes>"
      ]
     },
     "metadata": {
      "needs_background": "light"
     },
     "output_type": "display_data"
    }
   ],
   "source": [
    "OrderOneTimeCount.plot(kind=\"hist\",bins=100,range=(0,30),title=\"How many items do customers buy at one time\")\n",
    "plt.xlabel('items')\n",
    "plt.show()\n"
   ]
  },
  {
   "cell_type": "markdown",
   "metadata": {},
   "source": [
    "透過將消費者一次的購物項目視覺化可以發現 消費者一次的購物項目都是以小額為主 5件以下占大宗"
   ]
  },
  {
   "cell_type": "code",
   "execution_count": 20,
   "metadata": {},
   "outputs": [
    {
     "data": {
      "image/png": "[encoded data removed]",
      "text/plain": [
       "<Figure size 432x288 with 1 Axes>"
      ]
     },
     "metadata": {
      "needs_background": "light"
     },
     "output_type": "display_data"
    }
   ],
   "source": [
    "OrderOneTimeSum.plot(kind=\"hist\",bins=100,range=(0,6000),title=\"the aggregate price customers pay at one time \")\n",
    "plt.xlabel(\"price\")\n",
    "plt.show()"
   ]
  },
  {
   "cell_type": "markdown",
   "metadata": {},
   "source": [
    "透過將消費者一次的購物總額視覺化可以發現 消費者一次的購物總額都是以500~1500元為主 也表示在app上面不太會買太昂貴的商品"
   ]
  },
  {
   "cell_type": "code",
   "execution_count": 21,
   "metadata": {},
   "outputs": [
    {
     "data": {
      "image/png": "[encoded data removed]",
      "text/plain": [
       "<Figure size 432x288 with 1 Axes>"
      ]
     },
     "metadata": {
      "needs_background": "light"
     },
     "output_type": "display_data"
    }
   ],
   "source": [
    "OrderOneTimeMean.plot(kind=\"hist\",bins=50,range=(0,2000),title=\"the mean price customers pay at one time \")\n",
    "plt.xlabel(\"price\")\n",
    "plt.show()"
   ]
  },
  {
   "cell_type": "markdown",
   "metadata": {},
   "source": [
    "透過將消費者一次的購物平均金額視覺化可以發現 消費者一次的購物平均金額都是以150~500元為主 也表示在app上面不太會買太昂貴的商品"
   ]
  },
  {
   "cell_type": "markdown",
   "metadata": {},
   "source": [
    "### 2.購物裝置為行動裝置(手機)還是電腦 "
   ]
  },
  {
   "cell_type": "code",
   "execution_count": 22,
   "metadata": {
    "scrolled": false
   },
   "outputs": [
    {
     "data": {
      "image/png": "[encoded data removed]",
      "text/plain": [
       "<Figure size 432x288 with 1 Axes>"
      ]
     },
     "metadata": {
      "needs_background": "light"
     },
     "output_type": "display_data"
    }
   ],
   "source": [
    "OrderDevice=Orders.groupby('TrackDeviceTypeDef')['TrackDeviceTypeDef'].count()\n",
    "OrderDevice.plot(kind=\"bar\",title=\"Device that customers use to shop\")\n",
    "plt.xlabel(\"kind\")\n",
    "plt.show()"
   ]
  },
  {
   "cell_type": "markdown",
   "metadata": {},
   "source": [
    "由此長條圖可以看出消費者主要是在行動裝置例如:手機 上面進行購物"
   ]
  },
  {
   "cell_type": "markdown",
   "metadata": {},
   "source": [
    "### 3.時間序列分析 訂單成立時間銷售行為 消費金額總額"
   ]
  },
  {
   "cell_type": "code",
   "execution_count": 23,
   "metadata": {},
   "outputs": [],
   "source": [
    "Orders['DateId'] = Orders['DateId'].astype(str).apply(lambda x: datetime.strptime(x, '%Y%m%d'))\n",
    "Orders=Orders.set_index('DateId')\n",
    "\n"
   ]
  },
  {
   "cell_type": "code",
   "execution_count": 24,
   "metadata": {},
   "outputs": [
    {
     "data": {
      "image/png": "[encoded data removed]",
      "text/plain": [
       "<Figure size 432x288 with 1 Axes>"
      ]
     },
     "metadata": {
      "needs_background": "light"
     },
     "output_type": "display_data"
    }
   ],
   "source": [
    "Orders.resample(\"D\")['SalesOrderSlaveTotalPayment'].sum().plot()\n",
    "plt.title(\"sales amount\")\n",
    "plt.xlabel(\"\")\n",
    "plt.show()"
   ]
  },
  {
   "cell_type": "markdown",
   "metadata": {},
   "source": [
    "由此圖表可以發現91app主要的銷售旺季在夏季，反之 在冬天時，銷售總額大幅下降，\n",
    "可以針對此表進而調查夏季跟冬季主要是賣出何種商品，並以此加強銷售或是行銷策略"
   ]
  },
  {
   "cell_type": "markdown",
   "metadata": {},
   "source": [
    "### 4.訂單狀態 分布(成功 失敗 取消等)"
   ]
  },
  {
   "cell_type": "code",
   "execution_count": 25,
   "metadata": {},
   "outputs": [
    {
     "data": {
      "image/png": "[encoded data removed]",
      "text/plain": [
       "<Figure size 432x288 with 1 Axes>"
      ]
     },
     "metadata": {
      "needs_background": "light"
     },
     "output_type": "display_data"
    }
   ],
   "source": [
    "Orders.groupby('StatusDef')['StatusDef'].count().plot(kind=\"bar\")\n",
    "plt.title('status of orders')\n",
    "plt.xlabel('')\n",
    "plt.show()"
   ]
  },
  {
   "cell_type": "markdown",
   "metadata": {},
   "source": [
    "可以發現消費者取消購物的次數太多，可以利用 購物車準備結帳時介面的行銷手法改善，確實的讓消費者完成購物行為\n",
    "另外，系統逾時以及退貨的次數也不少，應該加強客服以及系統流程或是品質控管，以免因為一次不滿意的消費而流失消費者"
   ]
  },
  {
   "cell_type": "markdown",
   "metadata": {},
   "source": [
    "### 5.台灣地區購買分布"
   ]
  },
  {
   "cell_type": "code",
   "execution_count": 32,
   "metadata": {
    "scrolled": false
   },
   "outputs": [
    {
     "data": {
      "image/png": "[encoded data removed]",
      "text/plain": [
       "<Figure size 432x288 with 1 Axes>"
      ]
     },
     "metadata": {
      "needs_background": "light"
     },
     "output_type": "display_data"
    }
   ],
   "source": [
    "OrderCity=Orders.groupby('City')['City'].count()\n",
    "OrderCity=OrderCity.sort_values(ascending=False).iloc[:23]\n",
    "OrderCity.plot(kind=\"bar\")\n",
    "plt.xticks(fontproperties = prop, rotation = 60)\n",
    "plt.title(\"distribution of purchase in Taiwan area\")\n",
    "plt.show()"
   ]
  },
  {
   "cell_type": "markdown",
   "metadata": {},
   "source": [
    "可以發現主要的購買分布都是在都市，也就是資訊化相對較高的地方，可以去推廣資訊化較高但購買分布低的新興市場，\n",
    "例如在此圖中的基隆或是新竹等地"
   ]
  },
  {
   "cell_type": "markdown",
   "metadata": {},
   "source": [
    "### 6.會員 性別 年齡分布"
   ]
  },
  {
   "cell_type": "code",
   "execution_count": 33,
   "metadata": {},
   "outputs": [
    {
     "data": {
      "image/png": "[encoded data removed]",
      "text/plain": [
       "<Figure size 432x288 with 1 Axes>"
      ]
     },
     "metadata": {
      "needs_background": "light"
     },
     "output_type": "display_data"
    }
   ],
   "source": [
    "Member.groupby('GenderTypeDef')['GenderTypeDef'].count().plot(kind=\"bar\")\n",
    "plt.title('Members\\'gender')\n",
    "plt.xlabel('')\n",
    "plt.show()"
   ]
  },
  {
   "cell_type": "markdown",
   "metadata": {},
   "source": [
    "雖然原始資料有太多缺失值，不過以現有的資料來看，會員主要以女性為主，因此可以分為兩部分策略，\n",
    "一是target女性消費者，將更多受女性青睞的品牌招攬成合作夥伴，以提高女性在91app的購買意願\n",
    "二是開拓男性消費者，因為成長潛力可能更大"
   ]
  },
  {
   "cell_type": "code",
   "execution_count": 35,
   "metadata": {},
   "outputs": [],
   "source": [
    "Member['age']=Member['Birthday'].str[0:4].apply(lambda x : 2019-float(x))\n",
    "m=Member['age']<100 \n",
    "Member['age']=Member[m]['age']\n",
    "m1=Member['age']>0\n",
    "Member['age']=Member[m1]['age']"
   ]
  },
  {
   "cell_type": "code",
   "execution_count": 36,
   "metadata": {},
   "outputs": [
    {
     "data": {
      "image/png": "[encoded data removed]",
      "text/plain": [
       "<Figure size 432x288 with 1 Axes>"
      ]
     },
     "metadata": {
      "needs_background": "light"
     },
     "output_type": "display_data"
    }
   ],
   "source": [
    "Member['age'].plot(kind=\"hist\")\n",
    "plt.title('Members\\'age')\n",
    "plt.xlabel(\"age\")\n",
    "plt.ylabel(\"number of people\")\n",
    "plt.show()"
   ]
  },
  {
   "cell_type": "markdown",
   "metadata": {},
   "source": [
    "可以發現成員的年紀主要以20~40的人為主，可以以他們為主要客群，並去調查並推銷商品，更迎合他們的購物行為"
   ]
  },
  {
   "cell_type": "markdown",
   "metadata": {},
   "source": [
    "### 7.時間序列分析 會員註冊的會員量"
   ]
  },
  {
   "cell_type": "code",
   "execution_count": 37,
   "metadata": {},
   "outputs": [
    {
     "data": {
      "image/png": "[encoded data removed]",
      "text/plain": [
       "<Figure size 432x288 with 1 Axes>"
      ]
     },
     "metadata": {
      "needs_background": "light"
     },
     "output_type": "display_data"
    }
   ],
   "source": [
    "Member['Time']=Member['RegisterDateTime'].astype(str).str.split(' ')\n",
    "Member['Time']=Member['Time'].apply(lambda x:x[0])\n",
    "Member['Time']=Member['Time'].apply(lambda x: datetime.strptime(x, '%Y-%m-%d'))\n",
    "Member=Member.set_index('Time')\n",
    "Member.resample(\"D\")['MemberId'].count().plot()\n",
    "plt.title(\"quantity of members\")\n",
    "plt.xlabel(\"\")\n",
    "plt.ylabel(\"number of people\")\n",
    "plt.show()                                                                  \n"
   ]
  },
  {
   "cell_type": "markdown",
   "metadata": {},
   "source": [
    "發現在2015年的夏天 註冊會員大幅上升，可以仔細推敲原因，並將可以類用的成功方法移植至今，想辦法提高會員註冊量"
   ]
  },
  {
   "cell_type": "markdown",
   "metadata": {},
   "source": [
    "### 8.會員註冊為行動裝置(手機)還是電腦"
   ]
  },
  {
   "cell_type": "code",
   "execution_count": 38,
   "metadata": {},
   "outputs": [
    {
     "data": {
      "image/png": "[encoded data removed]",
      "text/plain": [
       "<Figure size 432x288 with 1 Axes>"
      ]
     },
     "metadata": {
      "needs_background": "light"
     },
     "output_type": "display_data"
    }
   ],
   "source": [
    "Member.groupby('RegisterSourceTypeDef')['RegisterSourceTypeDef'].count().plot(kind=\"bar\")\n",
    "plt.title(\"register device\")\n",
    "plt.xlabel(\"kind\")\n",
    "plt.show()"
   ]
  },
  {
   "cell_type": "markdown",
   "metadata": {},
   "source": [
    "會員註冊主要是以網頁註冊為主，但透過之前消費裝置圖可以發現，在加入會員之後他們主要以行動裝置消費，\n",
    "因此可以考慮改善在App上註冊會員的介面，或是投放數位廣告等，想辦法提高行動裝置會員註冊量"
   ]
  },
  {
   "cell_type": "markdown",
   "metadata": {},
   "source": [
    "### 9.促銷的類型 "
   ]
  },
  {
   "cell_type": "code",
   "execution_count": 39,
   "metadata": {},
   "outputs": [
    {
     "data": {
      "image/png": "[encoded data removed]",
      "text/plain": [
       "<Figure size 432x288 with 1 Axes>"
      ]
     },
     "metadata": {
      "needs_background": "light"
     },
     "output_type": "display_data"
    }
   ],
   "source": [
    "PromotionConditions.groupby('DiscountType')['DiscountType'].count().plot(kind=\"bar\")\n",
    "plt.xticks(fontproperties = prop, rotation = 60)\n",
    "plt.title(\"type of promotion \")\n",
    "plt.xlabel(\"kind\")\n",
    "plt.show()"
   ]
  },
  {
   "cell_type": "markdown",
   "metadata": {},
   "source": [
    "91app的促銷類型主要以任選優惠價、滿額折現、滿額贈為主，可以根據此來深入調查這三種促銷方案的成效"
   ]
  },
  {
   "cell_type": "code",
   "execution_count": null,
   "metadata": {},
   "outputs": [],
   "source": []
  }
 ],
 "metadata": {
  "kernelspec": {
   "display_name": "Python 3",
   "language": "python",
   "name": "python3"
  },
  "language_info": {
   "codemirror_mode": {
    "name": "ipython",
    "version": 3
   },
   "file_extension": ".py",
   "mimetype": "text/x-python",
   "name": "python",
   "nbconvert_exporter": "python",
   "pygments_lexer": "ipython3",
   "version": "3.7.1"
  }
 },
 "nbformat": 4,
 "nbformat_minor": 2
}
